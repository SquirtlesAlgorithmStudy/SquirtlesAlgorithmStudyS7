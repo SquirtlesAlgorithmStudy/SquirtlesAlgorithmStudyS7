{
 "cells": [
  {
   "cell_type": "code",
   "execution_count": 37,
   "metadata": {},
   "outputs": [],
   "source": [
    "number_of_problem = int(input())\n",
    "problem_matrix = []\n",
    "for i in range(number_of_problem):\n",
    "    row,col,cabbage = map(int,input().split())\n",
    "    farm_area = [[0 for _ in range(row)] for _ in range(col)]\n",
    "    for j in range(cabbage):\n",
    "        x,y = map(int,input().split())\n",
    "        farm_area[y][x] = 1\n",
    "    problem_matrix.append(farm_area)\n",
    "    "
   ]
  },
  {
   "cell_type": "code",
   "execution_count": 38,
   "metadata": {},
   "outputs": [
    {
     "data": {
      "text/plain": [
       "[[[1, 1, 0, 0, 0, 0, 0, 0, 0, 0],\n",
       "  [0, 1, 0, 0, 0, 0, 0, 0, 0, 0],\n",
       "  [0, 0, 0, 0, 1, 0, 0, 0, 0, 0],\n",
       "  [0, 0, 0, 0, 1, 0, 0, 0, 0, 0],\n",
       "  [0, 0, 1, 1, 0, 0, 0, 1, 1, 1],\n",
       "  [0, 0, 0, 0, 1, 0, 0, 1, 1, 1],\n",
       "  [0, 0, 0, 0, 0, 0, 0, 1, 1, 1],\n",
       "  [0, 0, 0, 0, 0, 0, 0, 0, 0, 0]],\n",
       " [[0, 0, 0, 0, 0, 0, 0, 0, 0, 0],\n",
       "  [0, 0, 0, 0, 0, 0, 0, 0, 0, 0],\n",
       "  [0, 0, 0, 0, 0, 0, 0, 0, 0, 0],\n",
       "  [0, 0, 0, 0, 0, 0, 0, 0, 0, 0],\n",
       "  [0, 0, 0, 0, 0, 0, 0, 0, 0, 0],\n",
       "  [0, 0, 0, 0, 0, 1, 0, 0, 0, 0],\n",
       "  [0, 0, 0, 0, 0, 0, 0, 0, 0, 0],\n",
       "  [0, 0, 0, 0, 0, 0, 0, 0, 0, 0],\n",
       "  [0, 0, 0, 0, 0, 0, 0, 0, 0, 0],\n",
       "  [0, 0, 0, 0, 0, 0, 0, 0, 0, 0]]]"
      ]
     },
     "execution_count": 38,
     "metadata": {},
     "output_type": "execute_result"
    }
   ],
   "source": [
    "problem_matrix"
   ]
  },
  {
   "cell_type": "code",
   "execution_count": 39,
   "metadata": {},
   "outputs": [],
   "source": [
    "def dfs(x,y,problem):\n",
    "    \n",
    "    if x<= -1 or x>= len(problem_matrix[problem]) or y<= -1 or y >=len(problem_matrix[problem][0]):\n",
    "        return False\n",
    "    if problem_matrix[problem][x][y] == 1:\n",
    "\n",
    "        problem_matrix[problem][x][y] = 0\n",
    "\n",
    "        dfs(x-1,y,problem)\n",
    "        dfs(x,y-1,problem)\n",
    "        dfs(x+1,y,problem)\n",
    "        dfs(x,y+1,problem)\n",
    "\n",
    "        return True\n",
    "    \n",
    "    return False"
   ]
  },
  {
   "cell_type": "code",
   "execution_count": 40,
   "metadata": {},
   "outputs": [
    {
     "name": "stdout",
     "output_type": "stream",
     "text": [
      "5\n",
      "1\n"
     ]
    }
   ],
   "source": [
    "for problem in range(number_of_problem):\n",
    "    result = 0\n",
    "    n,m = len(problem_matrix[problem]),len(problem_matrix[problem][0])\n",
    "    for i in range(n):\n",
    "        for j in range(m):\n",
    "\n",
    "            if dfs(i,j,problem) == True:\n",
    "                result += 1\n",
    "\n",
    "    print(result)"
   ]
  }
 ],
 "metadata": {
  "kernelspec": {
   "display_name": "programmers",
   "language": "python",
   "name": "python3"
  },
  "language_info": {
   "codemirror_mode": {
    "name": "ipython",
    "version": 3
   },
   "file_extension": ".py",
   "mimetype": "text/x-python",
   "name": "python",
   "nbconvert_exporter": "python",
   "pygments_lexer": "ipython3",
   "version": "3.11.1"
  }
 },
 "nbformat": 4,
 "nbformat_minor": 2
}
