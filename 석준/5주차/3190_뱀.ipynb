{
 "cells": [
  {
   "cell_type": "code",
   "execution_count": 15,
   "metadata": {},
   "outputs": [],
   "source": [
    "length = int(input())\n",
    "board_matrix = [[0 for _ in range(length)] for _ in range(length)]\n",
    "apple_number = int(input())\n",
    "for i in range(apple_number):\n",
    "    row,column = map(int,input().split())\n",
    "    board_matrix[row-1][column-1] = 1\n",
    "rotation = int(input())\n",
    "rotation_sequence = []\n",
    "for j in range(rotation):\n",
    "    time,direction = input().split()\n",
    "    time = int(time)\n",
    "    rotation_sequence.append([time,direction])\n"
   ]
  },
  {
   "cell_type": "code",
   "execution_count": 16,
   "metadata": {},
   "outputs": [
    {
     "name": "stdout",
     "output_type": "stream",
     "text": [
      "[0, 1, 1, 1, 1, 0, 0, 0, 0, 0]\n",
      "[0, 0, 0, 0, 0, 0, 0, 0, 0, 0]\n",
      "[0, 0, 0, 0, 0, 0, 0, 0, 0, 0]\n",
      "[0, 0, 0, 0, 0, 0, 0, 0, 0, 0]\n",
      "[0, 0, 0, 0, 0, 0, 0, 0, 0, 0]\n",
      "[0, 0, 0, 0, 0, 0, 0, 0, 0, 0]\n",
      "[0, 0, 0, 0, 0, 0, 0, 0, 0, 0]\n",
      "[0, 0, 0, 0, 0, 0, 0, 0, 0, 0]\n",
      "[0, 0, 0, 0, 0, 0, 0, 0, 0, 0]\n",
      "[0, 0, 0, 0, 0, 0, 0, 0, 0, 0]\n",
      "[[8, 'D'], [10, 'D'], [11, 'D'], [13, 'L']]\n"
     ]
    }
   ],
   "source": [
    "for row in range(len(board_matrix)):\n",
    "    print(board_matrix[row])\n",
    "\n",
    "print(rotation_sequence)"
   ]
  },
  {
   "cell_type": "code",
   "execution_count": 20,
   "metadata": {},
   "outputs": [
    {
     "name": "stdout",
     "output_type": "stream",
     "text": [
      "deque([[0, 0], [0, 1]])\n"
     ]
    }
   ],
   "source": [
    "from collections import deque\n",
    "snake = deque([[0,0]])\n",
    "snake.append([0,1])\n",
    "print(snake)"
   ]
  },
  {
   "cell_type": "code",
   "execution_count": 21,
   "metadata": {},
   "outputs": [
    {
     "data": {
      "text/plain": [
       "deque([[0, 0], [0, 1]])"
      ]
     },
     "execution_count": 21,
     "metadata": {},
     "output_type": "execute_result"
    }
   ],
   "source": [
    "# 사과를 먹은 경우(오른쪽)\n",
    "snake.append([row,column+1])\n",
    "# 왼쪽\n",
    "snake.append([row,column-1])\n",
    "# 상\n",
    "snake.append([row-1,column])\n",
    "# 하\n",
    "snake.append([row+1,column])\n",
    "# 그렇지 않은 경우(오른쪽)\n",
    "snake.append([row,column+1]).popleft()\n",
    "# 왼쪽\n",
    "snake.append([row,column-1]).popleft()\n",
    "# 상\n",
    "snake.append([row-1,column]).popleft()\n",
    "# 하\n",
    "snake.append([row+1,column]).popleft()"
   ]
  },
  {
   "cell_type": "code",
   "execution_count": null,
   "metadata": {},
   "outputs": [],
   "source": [
    "result = 0\n",
    "rotation_index = 0\n",
    "# 상하좌우로 이동할 수있도록 direction 변수가 필요해 보임\n",
    "while True:\n",
    "    # 끝에 도달한 경우\n",
    "    if row<= -1 or row>= len(board_matrix) or column<= -1 or column >=len(board_matrix[0]):\n",
    "        break\n",
    "    # 사과를 만난경우\n",
    "    if board_matrix[row][column] == 1:\n",
    "        snake.append([row,column])\n",
    "        # 머리를 이동시켰는대 머리의 위치가 기존 뱀의 인덱스에 속해있다면\n",
    "        if snake[-1] in snake:\n",
    "            break\n",
    "\n",
    "    # 그렇지 않은 경우\n",
    "    else:\n",
    "\n",
    "    if result == rotation_sequence[rotation_index][0]:\n",
    "        if \n",
    "    result += 1\n",
    "\n",
    "print(result)"
   ]
  }
 ],
 "metadata": {
  "kernelspec": {
   "display_name": "programmers",
   "language": "python",
   "name": "python3"
  },
  "language_info": {
   "codemirror_mode": {
    "name": "ipython",
    "version": 3
   },
   "file_extension": ".py",
   "mimetype": "text/x-python",
   "name": "python",
   "nbconvert_exporter": "python",
   "pygments_lexer": "ipython3",
   "version": "3.11.1"
  }
 },
 "nbformat": 4,
 "nbformat_minor": 2
}
