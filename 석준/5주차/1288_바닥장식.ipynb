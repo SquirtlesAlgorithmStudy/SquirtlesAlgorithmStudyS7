{
 "cells": [
  {
   "cell_type": "code",
   "execution_count": 139,
   "metadata": {},
   "outputs": [],
   "source": [
    "room_bottom = []\n",
    "count = 0\n",
    "row,col = map(int, input().split())\n",
    "for i in range(row):\n",
    "    room_bottom.append(list(input()))\n"
   ]
  },
  {
   "cell_type": "code",
   "execution_count": 140,
   "metadata": {},
   "outputs": [
    {
     "name": "stdout",
     "output_type": "stream",
     "text": [
      "['-', '|', '|', '-', '-', '|', '|', '-', '-']\n",
      "['-', '-', '|', '|', '-', '-', '|', '|', '-']\n",
      "['|', '-', '-', '|', '|', '-', '-', '|', '|']\n",
      "['|', '|', '-', '-', '|', '|', '-', '-', '|']\n",
      "['-', '|', '|', '-', '-', '|', '|', '-', '-']\n",
      "['-', '-', '|', '|', '-', '-', '|', '|', '-']\n"
     ]
    }
   ],
   "source": [
    "for i in range(row):\n",
    "    print(room_bottom[i])"
   ]
  },
  {
   "cell_type": "code",
   "execution_count": 162,
   "metadata": {},
   "outputs": [],
   "source": [
    "import sys\n",
    "sys.setrecursionlimit(10**6)\n",
    "count = 0\n",
    "room_bottom = [\n",
    "['|','|','-','|','|','-','|','|','|','-'],\n",
    "['|','|','-','-','|','|','|','|','|','|'],\n",
    "['-','|','-','|','|','|','|','|','|','|'],\n",
    "['-','|','-','|','|','-','|','|','-','|'],\n",
    "['|','|','-','-','|','-','|','|','|','|'],\n",
    "['|','|','|','|','|','|','-','|','|','-'],\n",
    "['|','-','|','|','|','|','|','|','|','|'],\n",
    "['|','|','|','|','|','|','|','|','|','|'],\n",
    "['|','|','-','-','-','|','-','-','|','|'],\n",
    "['-','|','|','-','|','|','|','|','|','|']\n",
    "]"
   ]
  },
  {
   "cell_type": "code",
   "execution_count": 163,
   "metadata": {},
   "outputs": [],
   "source": [
    "def dfs(x,y):\n",
    "\n",
    "    global count\n",
    "    \n",
    "    if x<= -1 or x>= len(room_bottom) or y<= -1 or y >=len(room_bottom[0]):\n",
    "        return False\n",
    "    if room_bottom[x][y] == '-':\n",
    "\n",
    "        room_bottom[x][y] = count\n",
    "\n",
    "        # dfs(x,y-1)\n",
    "        if y+1 >= len(room_bottom[0]) or room_bottom[x][y+1] == '|':\n",
    "            return True\n",
    "        else:\n",
    "            dfs(x,y+1)\n",
    "            count += 1\n",
    "            return True\n",
    "    \n",
    "    if room_bottom[x][y] == '|':\n",
    "\n",
    "        room_bottom[x][y] = count\n",
    "\n",
    "        # dfs(x-1,y)\n",
    "        if x+1 >= len(room_bottom) or room_bottom[x+1][y] == '-':\n",
    "            return True\n",
    "        else:\n",
    "            dfs(x+1,y)\n",
    "            count += 1\n",
    "            return True\n",
    "    \n",
    "    return False"
   ]
  },
  {
   "cell_type": "code",
   "execution_count": 164,
   "metadata": {},
   "outputs": [
    {
     "name": "stdout",
     "output_type": "stream",
     "text": [
      "41\n"
     ]
    }
   ],
   "source": [
    "result = 0\n",
    "n,m = len(room_bottom),len(room_bottom[0])\n",
    "for i in range(n):\n",
    "    for j in range(m):\n",
    "\n",
    "        if dfs(i,j) == True:\n",
    "            result += 1\n",
    "\n",
    "print(result)"
   ]
  },
  {
   "cell_type": "code",
   "execution_count": 161,
   "metadata": {},
   "outputs": [
    {
     "name": "stdout",
     "output_type": "stream",
     "text": [
      "[0, 1, 6, 6, 6, 13, 13, 17, 24, 26]\n",
      "[0, 1, 26, 26, 6, 28, 13, 17, 24, 29]\n",
      "[32, 1, 33, 33, 6, 28, 13, 17, 24, 29]\n",
      "[34, 1, 35, 33, 6, 36, 13, 17, 37, 29]\n",
      "[38, 1, 42, 42, 6, 44, 13, 17, 45, 29]\n",
      "[38, 1, 49, 51, 6, 53, 56, 17, 45, 57]\n",
      "[38, 57, 49, 51, 6, 53, 58, 17, 45, 59]\n",
      "[38, 61, 49, 51, 6, 53, 58, 17, 45, 59]\n",
      "[38, 61, 62, 62, 62, 53, 65, 65, 45, 59]\n"
     ]
    }
   ],
   "source": [
    "for row in range(len(room_bottom)):\n",
    "    print(room_bottom[row])"
   ]
  }
 ],
 "metadata": {
  "kernelspec": {
   "display_name": "programmers",
   "language": "python",
   "name": "python3"
  },
  "language_info": {
   "codemirror_mode": {
    "name": "ipython",
    "version": 3
   },
   "file_extension": ".py",
   "mimetype": "text/x-python",
   "name": "python",
   "nbconvert_exporter": "python",
   "pygments_lexer": "ipython3",
   "version": "3.11.1"
  }
 },
 "nbformat": 4,
 "nbformat_minor": 2
}
