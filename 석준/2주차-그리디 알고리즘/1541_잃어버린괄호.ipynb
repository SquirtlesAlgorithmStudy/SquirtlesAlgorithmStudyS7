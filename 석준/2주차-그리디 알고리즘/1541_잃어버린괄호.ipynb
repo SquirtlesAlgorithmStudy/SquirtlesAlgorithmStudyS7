{
 "cells": [
  {
   "cell_type": "code",
   "execution_count": 25,
   "metadata": {},
   "outputs": [
    {
     "name": "stdout",
     "output_type": "stream",
     "text": [
      "[55, '-', 50, '+', 40]\n"
     ]
    }
   ],
   "source": [
    "expression = input()\n",
    "sum_list = []\n",
    "temp = \"\"\n",
    "# 숫자, 연산자 끼리 나누어 리스트에 저장\n",
    "for i in range(len(expression)):\n",
    "    if expression[i] == '+':\n",
    "        temp = int(temp)\n",
    "        sum_list.append(temp)\n",
    "        sum_list.append('+')\n",
    "        temp = \"\"\n",
    "    elif expression[i] == '-':\n",
    "        temp = int(temp)\n",
    "        sum_list.append(temp)\n",
    "        sum_list.append('-')\n",
    "        temp = \"\"\n",
    "    else:\n",
    "        if i == len(expression)-1:\n",
    "            temp = temp + expression[i]\n",
    "            temp = int(temp)\n",
    "            sum_list.append(temp)\n",
    "            temp = \"\"\n",
    "        temp = temp + expression[i]\n",
    "\n",
    "# -가 나오는 뒷부분의 연산자를 제외한 숫자는 전부 음수로 변환\n",
    "result = 0\n",
    "flag = 0\n",
    "for i in range(len(sum_list)):\n",
    "    \n",
    "    if sum_list[i] == '-':\n",
    "        flag = 1\n",
    "    elif flag == 1 and sum_list[i] != '+':\n",
    "        sum_list[i] = -(sum_list[i])\n",
    "    elif sum_list[i] == '+':\n",
    "        continue\n",
    "    \n",
    "# 리스트의 요소중 연산자가 아닌 숫자만 더하는 과정\n",
    "for item in sum_list:\n",
    "    if isinstance(item, int):\n",
    "        result += item\n",
    "print(result)\n",
    "\n",
    "#0925 변경사항 수정\n"
   ]
  }
 ],
 "metadata": {
  "kernelspec": {
   "display_name": "programmers",
   "language": "python",
   "name": "python3"
  },
  "language_info": {
   "codemirror_mode": {
    "name": "ipython",
    "version": 3
   },
   "file_extension": ".py",
   "mimetype": "text/x-python",
   "name": "python",
   "nbconvert_exporter": "python",
   "pygments_lexer": "ipython3",
   "version": "3.11.1"
  },
  "orig_nbformat": 4
 },
 "nbformat": 4,
 "nbformat_minor": 2
}
