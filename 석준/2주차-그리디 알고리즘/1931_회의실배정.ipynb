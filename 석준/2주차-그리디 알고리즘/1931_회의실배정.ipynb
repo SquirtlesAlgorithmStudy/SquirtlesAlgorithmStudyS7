{
 "cells": [
  {
   "cell_type": "code",
   "execution_count": 4,
   "metadata": {},
   "outputs": [],
   "source": [
    "number_of_meetings = int(input())\n",
    "meetings_list = list()\n",
    "\n",
    "for _ in range(number_of_meetings):\n",
    "    meeting = list(map(int, input().split()))\n",
    "    meetings_list.append(meeting)"
   ]
  },
  {
   "cell_type": "code",
   "execution_count": 5,
   "metadata": {},
   "outputs": [],
   "source": [
    "# 람다 함수를 사용하여 오른쪽 원소를 기준으로 정렬\n",
    "sorted_meetings = sorted(meetings_list, key=lambda x: (x[1], x[0]))"
   ]
  },
  {
   "cell_type": "code",
   "execution_count": 6,
   "metadata": {},
   "outputs": [
    {
     "data": {
      "text/plain": [
       "[[4, 4], [3, 4], [2, 4]]"
      ]
     },
     "execution_count": 6,
     "metadata": {},
     "output_type": "execute_result"
    }
   ],
   "source": [
    "sorted_meetings"
   ]
  },
  {
   "cell_type": "code",
   "execution_count": 52,
   "metadata": {},
   "outputs": [
    {
     "name": "stdout",
     "output_type": "stream",
     "text": [
      "2\n"
     ]
    }
   ],
   "source": [
    "count = 0\n",
    "count += 1\n",
    "meeting_end = sorted_meetings[0][1]\n",
    "for i in range(1, len(sorted_meetings)):\n",
    "    if sorted_meetings[i][0] >= meeting_end:\n",
    "        count += 1\n",
    "        meeting_end = sorted_meetings[i][1]\n",
    "print(count)\n",
    "#0925 변경사항 수정"
   ]
  },
  {
   "cell_type": "code",
   "execution_count": 7,
   "metadata": {},
   "outputs": [
    {
     "data": {
      "text/plain": [
       "[(2, 5), (4, 5), (9, 2), (3, 1)]"
      ]
     },
     "execution_count": 7,
     "metadata": {},
     "output_type": "execute_result"
    }
   ],
   "source": [
    "a = [(3,1), (4,5),(2,5),(9,2)]\n",
    "# 1순위: 2번째 원소 내림차순, 2순위: 1번째 원소 오름차순\n",
    "sorted(a, key=lambda x: (-x[1], x[0]))"
   ]
  }
 ],
 "metadata": {
  "kernelspec": {
   "display_name": "programmers",
   "language": "python",
   "name": "python3"
  },
  "language_info": {
   "codemirror_mode": {
    "name": "ipython",
    "version": 3
   },
   "file_extension": ".py",
   "mimetype": "text/x-python",
   "name": "python",
   "nbconvert_exporter": "python",
   "pygments_lexer": "ipython3",
   "version": "3.11.1"
  },
  "orig_nbformat": 4
 },
 "nbformat": 4,
 "nbformat_minor": 2
}
