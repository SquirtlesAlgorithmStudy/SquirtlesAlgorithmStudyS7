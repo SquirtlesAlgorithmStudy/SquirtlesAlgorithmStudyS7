{
 "cells": [
  {
   "cell_type": "code",
   "execution_count": 31,
   "metadata": {},
   "outputs": [
    {
     "name": "stdout",
     "output_type": "stream",
     "text": [
      "5\n",
      "[1, 7, 8, 9, 10]\n"
     ]
    }
   ],
   "source": [
    "number_of_houses = input()\n",
    "houses_list = list(map(int,input().split(' ')))\n",
    "\n",
    "print(number_of_houses)\n",
    "print(houses_list)"
   ]
  },
  {
   "cell_type": "code",
   "execution_count": 35,
   "metadata": {},
   "outputs": [
    {
     "data": {
      "text/plain": [
       "1"
      ]
     },
     "execution_count": 35,
     "metadata": {},
     "output_type": "execute_result"
    }
   ],
   "source": [
    "len(houses_list)%2"
   ]
  },
  {
   "cell_type": "code",
   "execution_count": 32,
   "metadata": {},
   "outputs": [
    {
     "name": "stdout",
     "output_type": "stream",
     "text": [
      "7\n"
     ]
    }
   ],
   "source": [
    "houses_list.sort()\n",
    "# 홀수인 경우\n",
    "if len(houses_list)%2 == 1:\n",
    "    print(houses_list[len(houses_list)//2])\n",
    "else:\n",
    "    print(houses_list[len(houses_list)//2 -1])\n"
   ]
  },
  {
   "cell_type": "code",
   "execution_count": 30,
   "metadata": {},
   "outputs": [
    {
     "name": "stdout",
     "output_type": "stream",
     "text": [
      "7\n"
     ]
    }
   ],
   "source": [
    "# 빈 딕셔너리 생성\n",
    "difference_dict = {}\n",
    "\n",
    "# houses_list의 각 원소와 idle_loc의 차이를 계산하여 딕셔너리에 추가\n",
    "for house in houses_list:\n",
    "    diff = abs(house - idle_loc)  # 절대값을 사용하여 차이 계산\n",
    "    difference_dict[house] = diff\n",
    "\n",
    "# value 값이 가장 작은 key 값을 찾아서 출력\n",
    "min_key = min(difference_dict, key=difference_dict.get)\n",
    "print(min_key)"
   ]
  }
 ],
 "metadata": {
  "kernelspec": {
   "display_name": "programmers",
   "language": "python",
   "name": "python3"
  },
  "language_info": {
   "codemirror_mode": {
    "name": "ipython",
    "version": 3
   },
   "file_extension": ".py",
   "mimetype": "text/x-python",
   "name": "python",
   "nbconvert_exporter": "python",
   "pygments_lexer": "ipython3",
   "version": "3.11.1"
  },
  "orig_nbformat": 4
 },
 "nbformat": 4,
 "nbformat_minor": 2
}
