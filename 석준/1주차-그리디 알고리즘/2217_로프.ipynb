{
 "cells": [
  {
   "cell_type": "markdown",
   "metadata": {},
   "source": [
    "위와 아래의 코드에는 input을 받는 방식만 차이가 나는대 왜 위는 에러가 나고 아래는 성공하는거야??"
   ]
  },
  {
   "cell_type": "code",
   "execution_count": null,
   "metadata": {},
   "outputs": [],
   "source": [
    "number_of_ropes = int(input())\n",
    "ropes_list = list()\n",
    "\n",
    "for _ in range(number_of_ropes):\n",
    "    rope = int(input())\n",
    "    ropes_list.append(rope)\n",
    "\n",
    "ropes_list.sort()\n",
    "result = 0\n",
    "count = 0\n",
    "for i in ropes_list:\n",
    "    result = max(result, i*(len(ropes_list)-count))\n",
    "    count += 1\n",
    "print(result)\n",
    "\n",
    "#0925 변경사항"
   ]
  }
 ],
 "metadata": {
  "kernelspec": {
   "display_name": "programmers",
   "language": "python",
   "name": "python3"
  },
  "language_info": {
   "codemirror_mode": {
    "name": "ipython",
    "version": 3
   },
   "file_extension": ".py",
   "mimetype": "text/x-python",
   "name": "python",
   "nbconvert_exporter": "python",
   "pygments_lexer": "ipython3",
   "version": "3.11.1"
  },
  "orig_nbformat": 4
 },
 "nbformat": 4,
 "nbformat_minor": 2
}
