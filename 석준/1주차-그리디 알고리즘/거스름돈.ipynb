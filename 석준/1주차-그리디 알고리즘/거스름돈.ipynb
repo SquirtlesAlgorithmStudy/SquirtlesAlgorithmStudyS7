{
 "cells": [
  {
   "cell_type": "code",
   "execution_count": 1,
   "metadata": {},
   "outputs": [
    {
     "name": "stdout",
     "output_type": "stream",
     "text": [
      "260\n",
      "60\n",
      "10\n",
      "0\n",
      "6\n"
     ]
    }
   ],
   "source": [
    "# ex) 1260/500의 경우\n",
    "# /: 나눈값 2.52\n",
    "# //: 몫 2\n",
    "# %: 나머지 260\n",
    "n = 1260\n",
    "count = 0\n",
    "\n",
    "array = [500,100,50,10]\n",
    "\n",
    "for coin in array:\n",
    "    count += n //coin\n",
    "    n %= coin\n",
    "    print(n)\n",
    "\n",
    "print(count)"
   ]
  },
  {
   "cell_type": "code",
   "execution_count": 10,
   "metadata": {},
   "outputs": [
    {
     "name": "stdout",
     "output_type": "stream",
     "text": [
      "2\n",
      "260\n"
     ]
    }
   ],
   "source": [
    "print(1260//500) # 몫\n",
    "print(1260%500)  # 나머지"
   ]
  },
  {
   "cell_type": "code",
   "execution_count": 12,
   "metadata": {},
   "outputs": [
    {
     "name": "stdout",
     "output_type": "stream",
     "text": [
      "4 56\n"
     ]
    }
   ],
   "source": [
    "n,k = map(int, input().split())\n",
    "print(n,k)"
   ]
  },
  {
   "cell_type": "code",
   "execution_count": 13,
   "metadata": {},
   "outputs": [
    {
     "data": {
      "text/plain": [
       "['4', '56']"
      ]
     },
     "execution_count": 13,
     "metadata": {},
     "output_type": "execute_result"
    }
   ],
   "source": [
    "\"4 56\".split()"
   ]
  }
 ],
 "metadata": {
  "kernelspec": {
   "display_name": "programmers",
   "language": "python",
   "name": "python3"
  },
  "language_info": {
   "codemirror_mode": {
    "name": "ipython",
    "version": 3
   },
   "file_extension": ".py",
   "mimetype": "text/x-python",
   "name": "python",
   "nbconvert_exporter": "python",
   "pygments_lexer": "ipython3",
   "version": "3.11.1"
  },
  "orig_nbformat": 4
 },
 "nbformat": 4,
 "nbformat_minor": 2
}
