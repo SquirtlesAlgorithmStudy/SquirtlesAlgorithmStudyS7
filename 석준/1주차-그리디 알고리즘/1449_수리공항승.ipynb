{
 "cells": [
  {
   "cell_type": "code",
   "execution_count": 12,
   "metadata": {},
   "outputs": [
    {
     "name": "stdout",
     "output_type": "stream",
     "text": [
      "2\n"
     ]
    }
   ],
   "source": [
    "fix, length = map(int,input().split())\n",
    "loc = list(map(int, input().split()))\n",
    "result = 0\n",
    "count = 0\n",
    "# 물이 새는 위치 오름차순 정렬\n",
    "loc.sort()\n",
    "\n",
    "tape_cover = loc[0]-0.5+length\n",
    "count += 1\n",
    "\n",
    "for j in loc:\n",
    "    if j <= tape_cover:\n",
    "        continue\n",
    "    else:\n",
    "        tape_cover = j-0.5+length\n",
    "        count += 1\n",
    "\n",
    "print(count)\n",
    "\n",
    "#0925 변경사항  \n",
    "    \n",
    "    "
   ]
  }
 ],
 "metadata": {
  "kernelspec": {
   "display_name": "programmers",
   "language": "python",
   "name": "python3"
  },
  "language_info": {
   "codemirror_mode": {
    "name": "ipython",
    "version": 3
   },
   "file_extension": ".py",
   "mimetype": "text/x-python",
   "name": "python",
   "nbconvert_exporter": "python",
   "pygments_lexer": "ipython3",
   "version": "3.11.1"
  },
  "orig_nbformat": 4
 },
 "nbformat": 4,
 "nbformat_minor": 2
}
