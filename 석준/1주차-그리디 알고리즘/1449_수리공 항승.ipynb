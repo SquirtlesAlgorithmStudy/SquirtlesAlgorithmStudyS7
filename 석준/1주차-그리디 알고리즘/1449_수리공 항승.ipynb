{
 "cells": [
  {
   "cell_type": "markdown",
   "metadata": {},
   "source": [
    "#### 문제\n",
    "\n",
    "항승이는 품질이 심각하게 나쁜 수도 파이프 회사의 수리공이다. 항승이는 세준 지하철 공사에서 물이 샌다는 소식을 듣고 수리를 하러 갔다.\n",
    "\n",
    "파이프에서 물이 새는 곳은 신기하게도 가장 왼쪽에서 정수만큼 떨어진 거리만 물이 샌다.\n",
    "\n",
    "항승이는 길이가 L인 테이프를 무한개 가지고 있다.\n",
    "\n",
    "항승이는 테이프를 이용해서 물을 막으려고 한다. 항승이는 항상 물을 막을 때, 적어도 그 위치의 좌우 0.5만큼 간격을 줘야 물이 다시는 안 샌다고 생각한다.\n",
    "\n",
    "물이 새는 곳의 위치와, 항승이가 가지고 있는 테이프의 길이 L이 주어졌을 때, 항승이가 필요한 테이프의 최소 개수를 구하는 프로그램을 작성하시오. 테이프를 자를 수 없고, 테이프를 겹쳐서 붙이는 것도 가능하다."
   ]
  },
  {
   "cell_type": "markdown",
   "metadata": {},
   "source": [
    "#### 입력\n",
    "\n",
    "첫째 줄에 물이 새는 곳의 개수 N과 테이프의 길이 L이 주어진다. 둘째 줄에는 물이 새는 곳의 위치가 주어진다. N과 L은 1,000보다 작거나 같은 자연수이고, 물이 새는 곳의 위치는 1,000보다 작거나 같은 자연수이다."
   ]
  },
  {
   "cell_type": "markdown",
   "metadata": {},
   "source": [
    "#### 출력\n",
    "첫째 줄에 항승이가 필요한 테이프의 개수를 출력한다."
   ]
  },
  {
   "cell_type": "markdown",
   "metadata": {},
   "source": [
    "4 2  \n",
    "1 2 100 101  => 2"
   ]
  },
  {
   "cell_type": "markdown",
   "metadata": {},
   "source": [
    "3 1  \n",
    "3 2 1 => 3"
   ]
  },
  {
   "cell_type": "code",
   "execution_count": 4,
   "metadata": {},
   "outputs": [
    {
     "name": "stdout",
     "output_type": "stream",
     "text": [
      "3 1\n",
      "[1, 2, 100, 101]\n"
     ]
    }
   ],
   "source": [
    "fix, length = map(int,input().split())\n",
    "loc = list(map(int, input().split()))\n",
    "print(fix, length)\n",
    "print(loc)"
   ]
  },
  {
   "cell_type": "code",
   "execution_count": 12,
   "metadata": {},
   "outputs": [
    {
     "name": "stdout",
     "output_type": "stream",
     "text": [
      "2\n"
     ]
    }
   ],
   "source": [
    "fix, length = map(int,input().split())\n",
    "loc = list(map(int, input().split()))\n",
    "result = 0\n",
    "count = 0\n",
    "# 물이 새는 위치 오름차순 정렬\n",
    "loc.sort()\n",
    "\n",
    "tape_cover = loc[0]-0.5+length\n",
    "count += 1\n",
    "\n",
    "for j in loc:\n",
    "    if j <= tape_cover:\n",
    "        continue\n",
    "    else:\n",
    "        tape_cover = j-0.5+length\n",
    "        count += 1\n",
    "\n",
    "print(count)\n",
    "\n",
    "    \n",
    "        \n",
    "    \n",
    "    "
   ]
  }
 ],
 "metadata": {
  "kernelspec": {
   "display_name": "programmers",
   "language": "python",
   "name": "python3"
  },
  "language_info": {
   "codemirror_mode": {
    "name": "ipython",
    "version": 3
   },
   "file_extension": ".py",
   "mimetype": "text/x-python",
   "name": "python",
   "nbconvert_exporter": "python",
   "pygments_lexer": "ipython3",
   "version": "3.11.1"
  },
  "orig_nbformat": 4
 },
 "nbformat": 4,
 "nbformat_minor": 2
}
