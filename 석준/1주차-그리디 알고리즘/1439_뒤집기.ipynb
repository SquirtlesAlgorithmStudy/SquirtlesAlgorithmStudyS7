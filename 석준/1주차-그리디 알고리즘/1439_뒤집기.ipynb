{
 "cells": [
  {
   "cell_type": "code",
   "execution_count": 21,
   "metadata": {},
   "outputs": [
    {
     "name": "stdout",
     "output_type": "stream",
     "text": [
      "0\n"
     ]
    }
   ],
   "source": [
    "data = input()\n",
    "count = 0  # 전체 필요한 최소 횟수\n",
    "\n",
    "for i in range(len(data)):\n",
    "    if i == 0 or data[i] != data[i - 1]:\n",
    "        # 현재 숫자와 이전 숫자가 다르면, 뒤집어야 하므로 횟수 증가\n",
    "        count += 1\n",
    "\n",
    "print(count // 2)  # 0과 1을 번갈아가며 뒤집는 것을 고려하여 2로 나눔\n",
    "\n",
    "#0925 변경사항\n",
    "\n",
    "\n",
    "\n"
   ]
  }
 ],
 "metadata": {
  "kernelspec": {
   "display_name": "programmers",
   "language": "python",
   "name": "python3"
  },
  "language_info": {
   "codemirror_mode": {
    "name": "ipython",
    "version": 3
   },
   "file_extension": ".py",
   "mimetype": "text/x-python",
   "name": "python",
   "nbconvert_exporter": "python",
   "pygments_lexer": "ipython3",
   "version": "3.11.1"
  },
  "orig_nbformat": 4
 },
 "nbformat": 4,
 "nbformat_minor": 2
}
