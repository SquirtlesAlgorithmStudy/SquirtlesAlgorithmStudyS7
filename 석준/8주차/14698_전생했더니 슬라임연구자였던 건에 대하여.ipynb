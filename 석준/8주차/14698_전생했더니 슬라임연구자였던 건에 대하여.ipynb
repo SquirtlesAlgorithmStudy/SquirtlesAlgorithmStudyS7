{
 "cells": [
  {
   "cell_type": "code",
   "execution_count": 62,
   "metadata": {},
   "outputs": [],
   "source": [
    "# from collections import deque\n",
    "case = int(input())\n",
    "slime, slime_energy = [],[]\n",
    "for i in range(case):\n",
    "    slime.append(list(map(int, input().split())))\n",
    "    slime_energy.append(list(map(int, input().split())))"
   ]
  },
  {
   "cell_type": "code",
   "execution_count": 63,
   "metadata": {},
   "outputs": [
    {
     "data": {
      "text/plain": [
       "[[5], [1]]"
      ]
     },
     "execution_count": 63,
     "metadata": {},
     "output_type": "execute_result"
    }
   ],
   "source": [
    "slime"
   ]
  },
  {
   "cell_type": "code",
   "execution_count": 64,
   "metadata": {},
   "outputs": [
    {
     "data": {
      "text/plain": [
       "[[3, 10, 2, 8, 14], [13]]"
      ]
     },
     "execution_count": 64,
     "metadata": {},
     "output_type": "execute_result"
    }
   ],
   "source": [
    "slime_energy"
   ]
  },
  {
   "cell_type": "code",
   "execution_count": 72,
   "metadata": {},
   "outputs": [
    {
     "name": "stdout",
     "output_type": "stream",
     "text": [
      "[[6, 48, 140, 6720], [1]]\n",
      "270950400\n",
      "1\n"
     ]
    }
   ],
   "source": [
    "result = []\n",
    "\n",
    "for i in range(case):\n",
    "    if len(slime_energy[i]) == 1:\n",
    "        result.append([1])\n",
    "    else:\n",
    "        sorted_slime = sorted(slime_energy[i])\n",
    "        temp = []\n",
    "        for j in range(len(slime_energy[i])-1):\n",
    "\n",
    "            sorted_slime = sorted(sorted_slime)\n",
    "            value = sorted_slime[0]*sorted_slime[1]\n",
    "            temp.append(value)\n",
    "            del sorted_slime[0]\n",
    "            del sorted_slime[0]\n",
    "            sorted_slime.append(value)\n",
    "        result.append(temp)\n",
    "\n",
    "\n",
    "for i in range(case):\n",
    "    ans = 1\n",
    "    if len(result[i]) == 1:\n",
    "        print(1)\n",
    "    else:\n",
    "        for number in result[i]:\n",
    "            ans *= number\n",
    "        print(ans % 1000000007)\n",
    "# 힙 자료구조를 사용하지 않아 시간초과 에러발생. 힙 자료구조를 사용해야 하는듯"
   ]
  }
 ],
 "metadata": {
  "kernelspec": {
   "display_name": "programmers",
   "language": "python",
   "name": "python3"
  },
  "language_info": {
   "codemirror_mode": {
    "name": "ipython",
    "version": 3
   },
   "file_extension": ".py",
   "mimetype": "text/x-python",
   "name": "python",
   "nbconvert_exporter": "python",
   "pygments_lexer": "ipython3",
   "version": "3.11.1"
  }
 },
 "nbformat": 4,
 "nbformat_minor": 2
}
