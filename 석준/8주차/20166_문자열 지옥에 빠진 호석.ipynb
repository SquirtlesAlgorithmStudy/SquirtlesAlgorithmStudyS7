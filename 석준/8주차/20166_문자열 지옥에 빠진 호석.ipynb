{
 "cells": [
  {
   "cell_type": "code",
   "execution_count": 1,
   "metadata": {},
   "outputs": [
    {
     "name": "stdout",
     "output_type": "stream",
     "text": [
      "56\n",
      "0\n"
     ]
    }
   ],
   "source": [
    "from sys import stdin, setrecursionlimit\n",
    "\n",
    "setrecursionlimit(10 ** 9)\n",
    "\n",
    "n, m, k = map(int, input().split())\n",
    "ans, arr, res = {}, [], []\n",
    "dx, dy = [1, 0, -1, 0, 1, 1, -1, -1], [0, 1, 0, -1, -1, 1, 1, -1]\n",
    "ans_list = []\n",
    "\n",
    "for i in range(n):\n",
    "    arr.append(list(input().rstrip()))\n",
    "\n",
    "for _ in range(k):\n",
    "    data = input().rstrip()\n",
    "    ans[data] = 0\n",
    "    ans_list.append(data)\n",
    "\n",
    "\n",
    "def solve(x, y, cnt, string):\n",
    "    if cnt > 5:\n",
    "        return\n",
    "\n",
    "    if string in ans:\n",
    "        ans[string] += 1\n",
    "\n",
    "    for i in range(8):\n",
    "        nx, ny = (x + n + dx[i]) % n, (y + m + dy[i]) % m\n",
    "        solve(nx, ny, cnt + 1, string + arr[nx][ny])\n",
    "\n",
    "\n",
    "for i in range(n):\n",
    "    for j in range(m):\n",
    "        start = ''\n",
    "        solve(i, j, 1, start + arr[i][j])\n",
    "\n",
    "for k in ans_list:\n",
    "    if k in ans:\n",
    "        print(ans[k])"
   ]
  }
 ],
 "metadata": {
  "kernelspec": {
   "display_name": "programmers",
   "language": "python",
   "name": "python3"
  },
  "language_info": {
   "codemirror_mode": {
    "name": "ipython",
    "version": 3
   },
   "file_extension": ".py",
   "mimetype": "text/x-python",
   "name": "python",
   "nbconvert_exporter": "python",
   "pygments_lexer": "ipython3",
   "version": "3.11.1"
  }
 },
 "nbformat": 4,
 "nbformat_minor": 2
}
