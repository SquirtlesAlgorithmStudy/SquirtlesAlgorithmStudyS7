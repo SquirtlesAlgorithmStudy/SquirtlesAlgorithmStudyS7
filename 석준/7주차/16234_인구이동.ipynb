{
 "cells": [
  {
   "cell_type": "code",
   "execution_count": 1,
   "metadata": {},
   "outputs": [],
   "source": [
    "from collections import deque\n",
    "\n",
    "n, l, r = map(int, input().split())\n",
    "A = [list(map(int, input().split())) for _ in range(n)]"
   ]
  },
  {
   "cell_type": "code",
   "execution_count": 12,
   "metadata": {},
   "outputs": [
    {
     "name": "stdout",
     "output_type": "stream",
     "text": [
      "[[50, 30], [20, 40]]\n"
     ]
    }
   ],
   "source": [
    "print(A)"
   ]
  },
  {
   "cell_type": "code",
   "execution_count": 2,
   "metadata": {},
   "outputs": [
    {
     "name": "stdout",
     "output_type": "stream",
     "text": [
      "조건문내에 0 0\n",
      "dfs 함수내에 (1, 0)\n",
      "dfs 함수내에 (0, 1)\n",
      "dfs 함수내에 (1, 1)\n",
      "35\n",
      "[[1, 1], [1, 1]]\n",
      "조건문내에 0 0\n",
      "조건문내에 0 1\n",
      "조건문내에 1 0\n",
      "조건문내에 1 1\n",
      "1\n"
     ]
    }
   ],
   "source": [
    "dx = [-1, 1, 0, 0]\n",
    "dy = [0, 0, -1, 1]\n",
    "\n",
    "def bfs(i, j):\n",
    "    queue = deque()\n",
    "    union = []\n",
    "    queue.append((i, j))\n",
    "    union.append((i, j))\n",
    "\n",
    "    while queue:\n",
    "        x, y = queue.popleft()\n",
    "        for k in range(4):\n",
    "            nx = x + dx[k]\n",
    "            ny = y + dy[k]\n",
    "            if 0 <= nx < n and 0 <= ny < n and visited[nx][ny] == 0:\n",
    "                if l <= abs(A[nx][ny] - A[x][y]) <= r:\n",
    "                    visited[nx][ny] = 1\n",
    "                    queue.append((nx, ny))\n",
    "                    print(\"dfs 함수내에\",(nx, ny))\n",
    "                    union.append((nx, ny))\n",
    "    return union               \n",
    "\n",
    "result = 0\n",
    "while True:\n",
    "    visited = [[0 for _ in range(n)] for _ in range(n)]\n",
    "    flag = 0\n",
    "    for i in range(n):\n",
    "        for j in range(n):\n",
    "            if visited[i][j] == 0:\n",
    "                print(\"조건문내에\",i,j)\n",
    "                visited[i][j] = 1\n",
    "                country = bfs(i, j)\n",
    "                \n",
    "                if len(country) > 1:\n",
    "                    flag = 1\n",
    "                    people = sum(A[x][y] for x, y in country) // len(country)\n",
    "                    print(people)\n",
    "                    print(visited)\n",
    "                    for x, y in country:\n",
    "                        A[x][y] = people\n",
    "    \n",
    "    if flag == 0:\n",
    "        print(result)\n",
    "        break\n",
    "\n",
    "    result += 1\n",
    "# print(result)"
   ]
  }
 ],
 "metadata": {
  "kernelspec": {
   "display_name": "programmers",
   "language": "python",
   "name": "python3"
  },
  "language_info": {
   "codemirror_mode": {
    "name": "ipython",
    "version": 3
   },
   "file_extension": ".py",
   "mimetype": "text/x-python",
   "name": "python",
   "nbconvert_exporter": "python",
   "pygments_lexer": "ipython3",
   "version": "3.11.1"
  }
 },
 "nbformat": 4,
 "nbformat_minor": 2
}
