{
 "cells": [
  {
   "cell_type": "code",
   "execution_count": 17,
   "metadata": {},
   "outputs": [],
   "source": [
    "from collections import deque\n",
    "\n",
    "test_cases = int(input())\n",
    "chess_map = []\n",
    "for i in range(test_cases):\n",
    "    n = int(input())\n",
    "    chess_map.append([[0 for _ in range(n)] for _ in range(n)])\n",
    "    row,col = list(map(int, input().split()))\n",
    "    chess_map[i][row][col] = \"I\"\n",
    "    row,col = list(map(int, input().split()))\n",
    "    chess_map[i][row][col] = \"G\"\n",
    "    \n"
   ]
  },
  {
   "cell_type": "code",
   "execution_count": 18,
   "metadata": {},
   "outputs": [
    {
     "data": {
      "text/plain": [
       "[[['I', 0, 0, 0, 0, 0, 0, 0],\n",
       "  [0, 0, 0, 0, 0, 0, 0, 0],\n",
       "  [0, 0, 0, 0, 0, 0, 0, 0],\n",
       "  [0, 0, 0, 0, 0, 0, 0, 0],\n",
       "  [0, 0, 0, 0, 0, 0, 0, 0],\n",
       "  [0, 0, 0, 0, 0, 0, 0, 0],\n",
       "  [0, 0, 0, 0, 0, 0, 0, 0],\n",
       "  ['G', 0, 0, 0, 0, 0, 0, 0]]]"
      ]
     },
     "execution_count": 18,
     "metadata": {},
     "output_type": "execute_result"
    }
   ],
   "source": [
    "chess_map"
   ]
  },
  {
   "cell_type": "code",
   "execution_count": 34,
   "metadata": {},
   "outputs": [
    {
     "name": "stdout",
     "output_type": "stream",
     "text": [
      "64\n"
     ]
    }
   ],
   "source": [
    "def dfs(k,x,y):\n",
    "    global cnt\n",
    "    global result\n",
    "    visited[x][y] = True\n",
    "    for i in range(8):\n",
    "        nx = x + dx[i]\n",
    "        ny = y + dy[i]\n",
    "\n",
    "        if 0<=nx<n and 0<=ny<m and not visited[nx][ny]:\n",
    "\n",
    "            if chess_map[k][nx][ny] == \"G\":\n",
    "                cnt += 1\n",
    "                return cnt\n",
    "            \n",
    "            else:\n",
    "                cnt += 1\n",
    "                dfs(k,nx,ny)\n",
    "\n",
    "    return cnt\n",
    "\n",
    "cnt = 0\n",
    "result = []\n",
    "\n",
    "dx = [-1, 1, 2, 2, 1, -1, -2, -2]\n",
    "dy = [2, 2, 1, -1, -2, -2, -1, 1]\n",
    "\n",
    "for k in range(len(chess_map)):\n",
    "    n,m = len(chess_map[k]), len(chess_map[k])\n",
    "    visited = [[False]*m for _ in range(n)]\n",
    "    \n",
    "    for i in range(n):\n",
    "        for j in range(m):\n",
    "            if chess_map[k][i][j]==\"I\":\n",
    "                answer = dfs(k,i,j)\n",
    "    print(answer)\n",
    "\n"
   ]
  },
  {
   "cell_type": "code",
   "execution_count": 1,
   "metadata": {},
   "outputs": [
    {
     "name": "stdout",
     "output_type": "stream",
     "text": [
      "5\n"
     ]
    }
   ],
   "source": [
    "from collections import deque\n",
    "import sys\n",
    "\n",
    "t = int(input())\n",
    "\n",
    "\n",
    "def bfs() :\n",
    "    dx = [-1, 1, 2, 2, 1, -1, -2, -2]\n",
    "    dy = [2, 2, 1, -1, -2, -2, -1, 1]\n",
    "\n",
    "    q = deque()\n",
    "    q.append((startX, startY))\n",
    "    while q :\n",
    "        x, y = q.popleft()\n",
    "        if x == endX and y == endY :\n",
    "            return matrix[x][y] -1 \n",
    "        for i in range(8) :\n",
    "            nx = x + dx[i]\n",
    "            ny = y + dy[i]\n",
    "            if 0<=nx<l and 0<=ny<l and matrix[nx][ny] == 0 :\n",
    "                matrix[nx][ny] = matrix[x][y] + 1\n",
    "                q.append((nx,ny))\n",
    "                \n",
    "            \n",
    "        \n",
    "for _ in range(t) :\n",
    "    l = int(input().rstrip())\n",
    "    startX, startY = map(int, input().rstrip().split())\n",
    "    endX, endY = map(int, input().rstrip().split())\n",
    "    matrix = [[0]*l for _ in range(l)]\n",
    "    matrix[startX][startY] = 1\n",
    "    print(bfs())"
   ]
  },
  {
   "cell_type": "code",
   "execution_count": 4,
   "metadata": {},
   "outputs": [
    {
     "name": "stdout",
     "output_type": "stream",
     "text": [
      "[1, 4, 3, 4, 3, 4, 5, 6]\n",
      "[4, 5, 2, 3, 4, 5, 4, 5]\n",
      "[3, 2, 5, 4, 3, 4, 5, 6]\n",
      "[4, 3, 4, 3, 4, 5, 4, 5]\n",
      "[3, 4, 3, 4, 5, 4, 5, 6]\n",
      "[4, 5, 4, 5, 4, 5, 6, 5]\n",
      "[5, 4, 5, 4, 5, 6, 5, 6]\n",
      "[6, 5, 6, 5, 6, 5, 6, 7]\n"
     ]
    }
   ],
   "source": [
    "for row in range(len(matrix)):\n",
    "    print(matrix[row])"
   ]
  }
 ],
 "metadata": {
  "kernelspec": {
   "display_name": "programmers",
   "language": "python",
   "name": "python3"
  },
  "language_info": {
   "codemirror_mode": {
    "name": "ipython",
    "version": 3
   },
   "file_extension": ".py",
   "mimetype": "text/x-python",
   "name": "python",
   "nbconvert_exporter": "python",
   "pygments_lexer": "ipython3",
   "version": "3.11.1"
  }
 },
 "nbformat": 4,
 "nbformat_minor": 2
}
