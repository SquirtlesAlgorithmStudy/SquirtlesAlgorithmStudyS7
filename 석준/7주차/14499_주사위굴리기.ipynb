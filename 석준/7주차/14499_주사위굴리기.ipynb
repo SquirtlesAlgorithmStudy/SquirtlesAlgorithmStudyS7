{
 "cells": [
  {
   "cell_type": "code",
   "execution_count": null,
   "metadata": {},
   "outputs": [],
   "source": [
    "N, M, x, y, K = map(int, input().split())\n",
    "graph = [list(map(int, input().split())) for _ in range(N)]\n",
    "commands = list(map(int, input().split()))\n",
    "dx = [0, 0, -1, 1]\n",
    "dy = [1, -1, 0, 0]\n",
    "dice = [0, 0, 0, 0, 0, 0]\n",
    "\n",
    "# 동 -> 4 2 1 6 5 3\n",
    "# 서 -> 3 2 6 1 5 4\n",
    "# 북 -> 5 1 3 4 6 2\n",
    "# 남 -> 2 6 3 4 1 5\n",
    "\n",
    "\n",
    "for command in commands:\n",
    "    nx = x + dx[command - 1]\n",
    "    ny = y + dy[command - 1]\n",
    "\n",
    "    if nx < 0 or ny < 0 or nx >= N or ny >= M:\n",
    "        continue\n",
    "    else:\n",
    "        a, b, c, d, e, f = dice[0], dice[1], dice[2], dice[3], dice[4], dice[5]\n",
    "        if command == 1:\n",
    "            dice = [d, b, a, f, e, c]\n",
    "        elif command == 2:\n",
    "            dice = [c, b, f, a, e, d]\n",
    "        elif command == 3:\n",
    "            dice = [e, a, c, d, f, b]\n",
    "        else:\n",
    "            dice = [b, f, c, d, a, e]\n",
    "\n",
    "        if graph[nx][ny] == 0:\n",
    "            graph[nx][ny] = dice[-1]\n",
    "        else:\n",
    "            dice[-1] = graph[nx][ny]\n",
    "            graph[nx][ny] = 0\n",
    "\n",
    "        x, y = nx, ny\n",
    "\n",
    "        print(dice[0])\n",
    "\n",
    "# 시간: 44ms\n"
   ]
  }
 ],
 "metadata": {
  "language_info": {
   "name": "python"
  }
 },
 "nbformat": 4,
 "nbformat_minor": 2
}
