{
 "cells": [
  {
   "cell_type": "code",
   "execution_count": 12,
   "metadata": {},
   "outputs": [
    {
     "name": "stdout",
     "output_type": "stream",
     "text": [
      "[6, 10, 13, 9, 8, 1]\n"
     ]
    }
   ],
   "source": [
    "n=int(input())\n",
    "array=[0]*10000\n",
    "for i in range(n):\n",
    "    array[i]=int(input())\n",
    "# 틀린 코드\n",
    "# n=int(input())\n",
    "# array=[]\n",
    "# for i in range(n):\n",
    "#     array.append(int(input()))\n",
    "# 인풋을 받아서 추가해주는 방식의 경우 포도주가 2개라면 array[값1,값2]만 존재하므로\n",
    "# 밑 부분에서 array[2]가 인덱싱이 되지 않아 인덱스 에러가 발생하기 때문에 반드시 사전에 값을\n",
    "# 초기화 해야한다."
   ]
  },
  {
   "cell_type": "code",
   "execution_count": 15,
   "metadata": {},
   "outputs": [
    {
     "name": "stdout",
     "output_type": "stream",
     "text": [
      "33\n"
     ]
    }
   ],
   "source": [
    "# d = [0]* n 이거 오답임 이거 하면 포도주가 너무 작은 갯수 있는 경우 인덱스 에러발생 아마\n",
    "# d[2] 인덱싱이 안되서 에러발생하는 거 같음\n",
    "# 그래서 미리 사전에 정의 해 줘야함!\n",
    "d = [0]*10000\n",
    "d[0] = array[0]\n",
    "d[1] = array[0] + array[1]\n",
    "d[2] = max(array[2]+array[1], array[2]+array[0],d[1])\n",
    "for i in range(3,n):\n",
    "    d[i] = max(d[i-1], d[i-2] + array[i], d[i-3] + array[i-1] + array[i])\n",
    "\n",
    "print(d[n - 1])"
   ]
  },
  {
   "cell_type": "code",
   "execution_count": 18,
   "metadata": {},
   "outputs": [
    {
     "name": "stdout",
     "output_type": "stream",
     "text": [
      "6\n",
      "16\n",
      "23\n",
      "28\n",
      "33\n"
     ]
    }
   ],
   "source": [
    "print(d[1])\n",
    "print(d[2])\n",
    "print(d[3])\n",
    "print(d[4])\n",
    "print(d[5])"
   ]
  }
 ],
 "metadata": {
  "kernelspec": {
   "display_name": "programmers",
   "language": "python",
   "name": "python3"
  },
  "language_info": {
   "codemirror_mode": {
    "name": "ipython",
    "version": 3
   },
   "file_extension": ".py",
   "mimetype": "text/x-python",
   "name": "python",
   "nbconvert_exporter": "python",
   "pygments_lexer": "ipython3",
   "version": "3.11.1"
  }
 },
 "nbformat": 4,
 "nbformat_minor": 2
}
