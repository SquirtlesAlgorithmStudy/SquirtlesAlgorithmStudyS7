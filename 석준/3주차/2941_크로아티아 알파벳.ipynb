{
 "cells": [
  {
   "cell_type": "code",
   "execution_count": 10,
   "metadata": {},
   "outputs": [
    {
     "name": "stdout",
     "output_type": "stream",
     "text": [
      "6\n"
     ]
    }
   ],
   "source": [
    "croatia_alphabet_1= ['c=','c-','d-','lj','nj','s=','z=']\n",
    "croatia_alphabet_2 = ['dz=']\n",
    "\n",
    "problem1 = 'ljes=njak'\n",
    "\n",
    "count = 0\n",
    "\n",
    "while len(problem1) != 0:\n",
    "    if problem1[:2] in croatia_alphabet_1:\n",
    "        count += 1\n",
    "        problem1 = problem1[2:]\n",
    "    elif problem1[:3] in croatia_alphabet_2:\n",
    "        count += 1\n",
    "        problem1 = problem1[3:]\n",
    "    else:\n",
    "        count += 1\n",
    "        problem1 = problem1[1:]\n",
    "print(count)\n"
   ]
  },
  {
   "cell_type": "code",
   "execution_count": 1,
   "metadata": {},
   "outputs": [
    {
     "name": "stdout",
     "output_type": "stream",
     "text": [
      "4\n"
     ]
    }
   ],
   "source": [
    "alphabet = input()\n",
    "\n",
    "croatia_alphabet_1= ['c=','c-','d-','lj','nj','s=','z=', 'dz=']\n",
    "croatia_alphabet_2 = ['dz=']\n",
    "count = 0\n",
    "\n",
    "while len(alphabet) != 0:\n",
    "    if alphabet[:2] in croatia_alphabet_1:\n",
    "        count += 1\n",
    "        alphabet = alphabet[2:]\n",
    "    elif alphabet[:3] in croatia_alphabet_2:\n",
    "        count += 1\n",
    "        alphabet = alphabet[3:]\n",
    "    else:\n",
    "        count += 1\n",
    "        alphabet = alphabet[1:]\n",
    "print(count)"
   ]
  }
 ],
 "metadata": {
  "kernelspec": {
   "display_name": "programmers",
   "language": "python",
   "name": "python3"
  },
  "language_info": {
   "codemirror_mode": {
    "name": "ipython",
    "version": 3
   },
   "file_extension": ".py",
   "mimetype": "text/x-python",
   "name": "python",
   "nbconvert_exporter": "python",
   "pygments_lexer": "ipython3",
   "version": "3.11.1"
  },
  "orig_nbformat": 4
 },
 "nbformat": 4,
 "nbformat_minor": 2
}
