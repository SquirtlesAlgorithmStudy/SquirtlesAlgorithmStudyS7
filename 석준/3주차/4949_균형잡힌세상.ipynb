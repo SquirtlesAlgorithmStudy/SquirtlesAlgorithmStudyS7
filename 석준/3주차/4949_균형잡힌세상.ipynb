{
 "cells": [
  {
   "cell_type": "code",
   "execution_count": 81,
   "metadata": {},
   "outputs": [
    {
     "name": "stdout",
     "output_type": "stream",
     "text": [
      "no\n"
     ]
    }
   ],
   "source": [
    "string = input()\n",
    "index = 0\n",
    "discriminator = []\n",
    "answer = 'yes'\n",
    "\n",
    "while string[index] != \".\":\n",
    "    if string[index] == '[':\n",
    "        discriminator.append('[')\n",
    "        index += 1\n",
    "    elif string[index] == '(':\n",
    "        discriminator.append('(')\n",
    "        index += 1\n",
    "    elif string[index] == ']':\n",
    "        \n",
    "        if discriminator and '[' in discriminator[-1]:\n",
    "            discriminator.remove('[')\n",
    "            index += 1\n",
    "        else:\n",
    "            answer = 'no'\n",
    "            break\n",
    "        \n",
    "    elif string[index] == ')':\n",
    "        \n",
    "        if discriminator and '(' in discriminator[-1]:\n",
    "            discriminator.remove('(')\n",
    "            index += 1\n",
    "        else:       \n",
    "            answer = 'no'\n",
    "            break\n",
    "    else:\n",
    "        index += 1\n",
    "if len(discriminator) != 0:\n",
    "    print('no')\n",
    "else:\n",
    "    print(answer)\n",
    "\n",
    "\n",
    "\n"
   ]
  },
  {
   "cell_type": "code",
   "execution_count": 1,
   "metadata": {},
   "outputs": [],
   "source": [
    "import sys\n",
    "n = int(sys.stdin.readline())\n",
    "data = [sys.stdin.readline().strip() for i in range(n)]"
   ]
  },
  {
   "cell_type": "code",
   "execution_count": 38,
   "metadata": {},
   "outputs": [
    {
     "name": "stdout",
     "output_type": "stream",
     "text": [
      "no\n"
     ]
    }
   ],
   "source": [
    "my_list = []\n",
    "\n",
    "try:\n",
    "    if '[' in my_list:\n",
    "        print('yes')\n",
    "    else:\n",
    "        print('no')\n",
    "except IndexError:\n",
    "    print('no12')"
   ]
  },
  {
   "cell_type": "code",
   "execution_count": 40,
   "metadata": {},
   "outputs": [
    {
     "ename": "IndexError",
     "evalue": "list index out of range",
     "output_type": "error",
     "traceback": [
      "\u001b[1;31m---------------------------------------------------------------------------\u001b[0m",
      "\u001b[1;31mIndexError\u001b[0m                                Traceback (most recent call last)",
      "\u001b[1;32mc:\\Users\\User\\OneDrive\\바탕 화면\\포트폴리오\\꼬부기 7기\\SquirtlesAlgorithmStudyS7\\석준\\3주차-구현,스택,큐\\4949_균형잡힌세상.ipynb 셀 3\u001b[0m line \u001b[0;36m3\n\u001b[0;32m      <a href='vscode-notebook-cell:/c%3A/Users/User/OneDrive/%EB%B0%94%ED%83%95%20%ED%99%94%EB%A9%B4/%ED%8F%AC%ED%8A%B8%ED%8F%B4%EB%A6%AC%EC%98%A4/%EA%BC%AC%EB%B6%80%EA%B8%B0%207%EA%B8%B0/SquirtlesAlgorithmStudyS7/%EC%84%9D%EC%A4%80/3%EC%A3%BC%EC%B0%A8-%EA%B5%AC%ED%98%84%2C%EC%8A%A4%ED%83%9D%2C%ED%81%90/4949_%EA%B7%A0%ED%98%95%EC%9E%A1%ED%9E%8C%EC%84%B8%EC%83%81.ipynb#W2sZmlsZQ%3D%3D?line=0'>1</a>\u001b[0m my_list \u001b[39m=\u001b[39m []\n\u001b[1;32m----> <a href='vscode-notebook-cell:/c%3A/Users/User/OneDrive/%EB%B0%94%ED%83%95%20%ED%99%94%EB%A9%B4/%ED%8F%AC%ED%8A%B8%ED%8F%B4%EB%A6%AC%EC%98%A4/%EA%BC%AC%EB%B6%80%EA%B8%B0%207%EA%B8%B0/SquirtlesAlgorithmStudyS7/%EC%84%9D%EC%A4%80/3%EC%A3%BC%EC%B0%A8-%EA%B5%AC%ED%98%84%2C%EC%8A%A4%ED%83%9D%2C%ED%81%90/4949_%EA%B7%A0%ED%98%95%EC%9E%A1%ED%9E%8C%EC%84%B8%EC%83%81.ipynb#W2sZmlsZQ%3D%3D?line=2'>3</a>\u001b[0m \u001b[39mif\u001b[39;00m \u001b[39m'\u001b[39m\u001b[39m[\u001b[39m\u001b[39m'\u001b[39m \u001b[39min\u001b[39;00m my_list[\u001b[39m-\u001b[39;49m\u001b[39m1\u001b[39;49m]:\n\u001b[0;32m      <a href='vscode-notebook-cell:/c%3A/Users/User/OneDrive/%EB%B0%94%ED%83%95%20%ED%99%94%EB%A9%B4/%ED%8F%AC%ED%8A%B8%ED%8F%B4%EB%A6%AC%EC%98%A4/%EA%BC%AC%EB%B6%80%EA%B8%B0%207%EA%B8%B0/SquirtlesAlgorithmStudyS7/%EC%84%9D%EC%A4%80/3%EC%A3%BC%EC%B0%A8-%EA%B5%AC%ED%98%84%2C%EC%8A%A4%ED%83%9D%2C%ED%81%90/4949_%EA%B7%A0%ED%98%95%EC%9E%A1%ED%9E%8C%EC%84%B8%EC%83%81.ipynb#W2sZmlsZQ%3D%3D?line=3'>4</a>\u001b[0m         \u001b[39mprint\u001b[39m(\u001b[39m'\u001b[39m\u001b[39myes\u001b[39m\u001b[39m'\u001b[39m)\n\u001b[0;32m      <a href='vscode-notebook-cell:/c%3A/Users/User/OneDrive/%EB%B0%94%ED%83%95%20%ED%99%94%EB%A9%B4/%ED%8F%AC%ED%8A%B8%ED%8F%B4%EB%A6%AC%EC%98%A4/%EA%BC%AC%EB%B6%80%EA%B8%B0%207%EA%B8%B0/SquirtlesAlgorithmStudyS7/%EC%84%9D%EC%A4%80/3%EC%A3%BC%EC%B0%A8-%EA%B5%AC%ED%98%84%2C%EC%8A%A4%ED%83%9D%2C%ED%81%90/4949_%EA%B7%A0%ED%98%95%EC%9E%A1%ED%9E%8C%EC%84%B8%EC%83%81.ipynb#W2sZmlsZQ%3D%3D?line=4'>5</a>\u001b[0m \u001b[39melse\u001b[39;00m:\n",
      "\u001b[1;31mIndexError\u001b[0m: list index out of range"
     ]
    }
   ],
   "source": [
    "my_list = []\n",
    "\n",
    "if '[' in my_list[-1]:\n",
    "        print('yes')\n",
    "else:\n",
    "    print('no')"
   ]
  }
 ],
 "metadata": {
  "kernelspec": {
   "display_name": "programmers",
   "language": "python",
   "name": "python3"
  },
  "language_info": {
   "codemirror_mode": {
    "name": "ipython",
    "version": 3
   },
   "file_extension": ".py",
   "mimetype": "text/x-python",
   "name": "python",
   "nbconvert_exporter": "python",
   "pygments_lexer": "ipython3",
   "version": "3.11.1"
  },
  "orig_nbformat": 4
 },
 "nbformat": 4,
 "nbformat_minor": 2
}
