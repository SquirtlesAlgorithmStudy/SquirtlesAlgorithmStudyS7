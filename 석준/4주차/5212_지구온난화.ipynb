{
 "cells": [
  {
   "cell_type": "code",
   "execution_count": 21,
   "metadata": {},
   "outputs": [
    {
     "name": "stdout",
     "output_type": "stream",
     "text": [
      "[['X', 'X', 'X'], ['.', '.', '.'], ['X', 'X', 'X']]\n"
     ]
    }
   ],
   "source": [
    "from sys import stdin\n",
    "import copy\n",
    "\n",
    "R, C = map(int, input().split())\n",
    "\n",
    "matrix = [list(input()) for _ in range(R)]\n",
    "\n",
    "print(matrix)"
   ]
  },
  {
   "cell_type": "code",
   "execution_count": 22,
   "metadata": {},
   "outputs": [
    {
     "name": "stdout",
     "output_type": "stream",
     "text": [
      "[['.', '.', '.', '.', '.'], ['.', '.', '.', '.', '.'], ['.', '.', '.', '.', '.'], ['.', '.', '.', '.', '.'], ['.', '.', '.', '.', '.']]\n"
     ]
    }
   ],
   "source": [
    "# 테두리를 포함한 배열 생성하고 모든 요소를 '.'으로 초기화\n",
    "real_matrix = [['.' for _ in range(C+2)] for _ in range(R+2)]\n",
    "print(real_matrix)"
   ]
  },
  {
   "cell_type": "code",
   "execution_count": 29,
   "metadata": {},
   "outputs": [
    {
     "name": "stdout",
     "output_type": "stream",
     "text": [
      ". . . . .\n",
      ". X X X .\n",
      ". . . . .\n",
      ". X X X .\n",
      ". . . . .\n"
     ]
    }
   ],
   "source": [
    "# 테두리를 포함한 배열 생성하고 모든 요소를 '.'으로 초기화\n",
    "real_matrix = [['.' for _ in range(C+2)] for _ in range(R+2)]\n",
    "\n",
    "# 기존 배열의 값을 확장된 배열에 복사\n",
    "for i in range(R):\n",
    "    for j in range(C):\n",
    "        real_matrix[i + 1][j + 1] = matrix[i][j]\n",
    "\n",
    "# 확장된 배열 출력\n",
    "for row in real_matrix:\n",
    "    print(\" \".join(row))"
   ]
  },
  {
   "cell_type": "code",
   "execution_count": 30,
   "metadata": {},
   "outputs": [],
   "source": [
    "def count_adjacent(row, column):\n",
    "    adjacent_count = []\n",
    "    \n",
    "    # 위쪽 원소\n",
    "    try:\n",
    "        adjacent_count.append(real_matrix[row][column+1])\n",
    "    except IndexError:\n",
    "        adjacent_count.append('.')\n",
    "    \n",
    "    # 아래쪽 원소\n",
    "    try:\n",
    "        adjacent_count.append(real_matrix[row+2][column+1])\n",
    "    except IndexError:\n",
    "        adjacent_count.append('.')\n",
    "    \n",
    "    # 왼쪽 원소\n",
    "    try:\n",
    "        adjacent_count.append(real_matrix[row+1][column])\n",
    "    except IndexError:\n",
    "        adjacent_count.append('.')\n",
    "    \n",
    "    # 오른쪽 원소\n",
    "    try:\n",
    "        adjacent_count.append(real_matrix[row+1][column+2])\n",
    "    except IndexError:\n",
    "        adjacent_count.append('.')\n",
    "    print(adjacent_count)\n",
    "    return adjacent_count"
   ]
  },
  {
   "cell_type": "code",
   "execution_count": 6,
   "metadata": {},
   "outputs": [
    {
     "data": {
      "text/plain": [
       "[[0, 0, 0], [0, 0, 0], [0, 0, 0]]"
      ]
     },
     "execution_count": 6,
     "metadata": {},
     "output_type": "execute_result"
    }
   ],
   "source": [
    "[[0] * C for _ in range(R)]"
   ]
  },
  {
   "cell_type": "code",
   "execution_count": 26,
   "metadata": {},
   "outputs": [],
   "source": [
    "def make_map(output_list):\n",
    "    map_info = []\n",
    "    for row in range(len(output_list)):\n",
    "        if output_list[row].count('.') == len(output_list[0]):\n",
    "            continue\n",
    "        else:\n",
    "            first_index = output_list[row].index('X')\n",
    "            last_index = len(output_list[0]) - output_list[row][::-1].index('X') - 1\n",
    "            map_info.append([row,first_index,last_index])\n",
    "    return map_info"
   ]
  },
  {
   "cell_type": "code",
   "execution_count": 34,
   "metadata": {},
   "outputs": [
    {
     "name": "stdout",
     "output_type": "stream",
     "text": [
      "0 0\n",
      "['.', '.', '.', 'X']\n",
      "0 1\n",
      "['.', '.', 'X', 'X']\n",
      "0 2\n",
      "['.', '.', 'X', '.']\n",
      "2 0\n",
      "['.', '.', '.', 'X']\n",
      "2 1\n",
      "['.', '.', 'X', 'X']\n",
      "2 2\n",
      "['.', '.', 'X', '.']\n",
      "[['.', 'X', '.'], ['.', '.', '.'], ['.', 'X', '.']]\n"
     ]
    }
   ],
   "source": [
    "output_list = [[0] * C for _ in range(R)]\n",
    "for row in range(len(matrix)):\n",
    "    for column in range(len(matrix[0])):\n",
    "        if matrix[row][column] == 'X':\n",
    "            \n",
    "            if count_adjacent(real_matrix,row, column).count('X') >=2:\n",
    "                output_list[row][column] = 'X'\n",
    "            else:\n",
    "                output_list[row][column] = '.'\n",
    "        else:\n",
    "            output_list[row][column] = '.'\n",
    "                \n",
    "            "
   ]
  },
  {
   "cell_type": "code",
   "execution_count": 35,
   "metadata": {},
   "outputs": [
    {
     "name": "stdout",
     "output_type": "stream",
     "text": [
      "X\n",
      ".\n",
      "X\n"
     ]
    }
   ],
   "source": [
    "future_map = make_map(output_list)\n",
    "for row in range(future_map[0][0],future_map[-1][0]+1):\n",
    "    print(','.join(output_list[row][min([row[1] for row in future_map]):max([row[2] for row in future_map])+1]))"
   ]
  },
  {
   "cell_type": "code",
   "execution_count": 55,
   "metadata": {},
   "outputs": [
    {
     "data": {
      "text/plain": [
       "[[1, 2, 7], [2, 1, 2]]"
      ]
     },
     "execution_count": 55,
     "metadata": {},
     "output_type": "execute_result"
    }
   ],
   "source": [
    "future_map = make_map(output_list)\n",
    "future_map"
   ]
  },
  {
   "cell_type": "code",
   "execution_count": 62,
   "metadata": {},
   "outputs": [
    {
     "data": {
      "text/plain": [
       "[2, 1]"
      ]
     },
     "execution_count": 62,
     "metadata": {},
     "output_type": "execute_result"
    }
   ],
   "source": [
    "min([row[1] for row in future_map])\n",
    "max([row[2] for row in future_map])"
   ]
  },
  {
   "cell_type": "code",
   "execution_count": 57,
   "metadata": {},
   "outputs": [
    {
     "data": {
      "text/plain": [
       "2"
      ]
     },
     "execution_count": 57,
     "metadata": {},
     "output_type": "execute_result"
    }
   ],
   "source": [
    "future_map[-1][0]"
   ]
  }
 ],
 "metadata": {
  "kernelspec": {
   "display_name": "programmers",
   "language": "python",
   "name": "python3"
  },
  "language_info": {
   "codemirror_mode": {
    "name": "ipython",
    "version": 3
   },
   "file_extension": ".py",
   "mimetype": "text/x-python",
   "name": "python",
   "nbconvert_exporter": "python",
   "pygments_lexer": "ipython3",
   "version": "3.11.1"
  }
 },
 "nbformat": 4,
 "nbformat_minor": 2
}
