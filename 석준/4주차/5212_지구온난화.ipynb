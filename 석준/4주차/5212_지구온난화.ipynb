{
 "cells": [
  {
   "cell_type": "code",
   "execution_count": 65,
   "metadata": {},
   "outputs": [
    {
     "name": "stdout",
     "output_type": "stream",
     "text": [
      "[['.', '.', '.'], ['.', 'X', '.'], ['.', 'X', '.'], ['.', 'X', '.'], ['.', '.', '.']]\n"
     ]
    }
   ],
   "source": [
    "from sys import stdin\n",
    "import copy\n",
    "\n",
    "R, C = map(int, input().split())\n",
    "\n",
    "matrix = [list(input()) for _ in range(R)]\n",
    "\n",
    "print(matrix)"
   ]
  },
  {
   "cell_type": "code",
   "execution_count": 66,
   "metadata": {},
   "outputs": [],
   "source": [
    "def count_adjacent(matrix, row, column):\n",
    "    adjacent_count = []\n",
    "    \n",
    "    # 위쪽 원소\n",
    "    try:\n",
    "        adjacent_count.append(matrix[row-1][column])\n",
    "    except IndexError:\n",
    "        adjacent_count.append('.')\n",
    "    \n",
    "    # 아래쪽 원소\n",
    "    try:\n",
    "        adjacent_count.append(matrix[row+1][column])\n",
    "    except IndexError:\n",
    "        adjacent_count.append('.')\n",
    "    \n",
    "    # 왼쪽 원소\n",
    "    try:\n",
    "        adjacent_count.append(matrix[row][column-1])\n",
    "    except IndexError:\n",
    "        adjacent_count.append('.')\n",
    "    \n",
    "    # 오른쪽 원소\n",
    "    try:\n",
    "        adjacent_count.append(matrix[row][column+1])\n",
    "    except IndexError:\n",
    "        adjacent_count.append('.')\n",
    "    \n",
    "    return adjacent_count"
   ]
  },
  {
   "cell_type": "code",
   "execution_count": 18,
   "metadata": {},
   "outputs": [
    {
     "data": {
      "text/plain": [
       "[[0, 0, 0], [0, 0, 0], [0, 0, 0], [0, 0, 0], [0, 0, 0]]"
      ]
     },
     "execution_count": 18,
     "metadata": {},
     "output_type": "execute_result"
    }
   ],
   "source": [
    "[[0] * C for _ in range(R)]"
   ]
  },
  {
   "cell_type": "code",
   "execution_count": 67,
   "metadata": {},
   "outputs": [],
   "source": [
    "def make_map(output_list):\n",
    "    map_info = []\n",
    "    for row in range(len(output_list)):\n",
    "        if output_list[row].count('.') == len(output_list[0]):\n",
    "            continue\n",
    "        else:\n",
    "            first_index = output_list[row].index('X')\n",
    "            last_index = len(output_list[0]) - output_list[row][::-1].index('X') - 1\n",
    "            map_info.append([row,first_index,last_index])\n",
    "    return map_info"
   ]
  },
  {
   "cell_type": "code",
   "execution_count": 68,
   "metadata": {},
   "outputs": [
    {
     "name": "stdout",
     "output_type": "stream",
     "text": [
      "['X']\n"
     ]
    }
   ],
   "source": [
    "output_list = [[0] * C for _ in range(R)]\n",
    "for row in range(len(matrix)):\n",
    "    for column in range(len(matrix[0])):\n",
    "        if matrix[row][column] == 'X':\n",
    "            if count_adjacent(matrix, row, column).count('X') >=2:\n",
    "                output_list[row][column] = 'X'\n",
    "            else:\n",
    "                output_list[row][column] = '.'\n",
    "        else:\n",
    "            output_list[row][column] = '.'\n",
    "\n",
    "\n",
    "future_map = make_map(output_list)\n",
    "for row in range(future_map[0][0],future_map[-1][0]+1):\n",
    "    print(output_list[row][min([row[1] for row in future_map]):max([row[2] for row in future_map])+1])\n",
    "\n",
    "                \n",
    "            "
   ]
  },
  {
   "cell_type": "code",
   "execution_count": 55,
   "metadata": {},
   "outputs": [
    {
     "data": {
      "text/plain": [
       "[[1, 2, 7], [2, 1, 2]]"
      ]
     },
     "execution_count": 55,
     "metadata": {},
     "output_type": "execute_result"
    }
   ],
   "source": [
    "future_map = make_map(output_list)\n",
    "future_map"
   ]
  },
  {
   "cell_type": "code",
   "execution_count": 62,
   "metadata": {},
   "outputs": [
    {
     "data": {
      "text/plain": [
       "[2, 1]"
      ]
     },
     "execution_count": 62,
     "metadata": {},
     "output_type": "execute_result"
    }
   ],
   "source": [
    "min([row[1] for row in future_map])\n",
    "max([row[2] for row in future_map])"
   ]
  },
  {
   "cell_type": "code",
   "execution_count": 57,
   "metadata": {},
   "outputs": [
    {
     "data": {
      "text/plain": [
       "2"
      ]
     },
     "execution_count": 57,
     "metadata": {},
     "output_type": "execute_result"
    }
   ],
   "source": [
    "future_map[-1][0]"
   ]
  }
 ],
 "metadata": {
  "kernelspec": {
   "display_name": "programmers",
   "language": "python",
   "name": "python3"
  },
  "language_info": {
   "codemirror_mode": {
    "name": "ipython",
    "version": 3
   },
   "file_extension": ".py",
   "mimetype": "text/x-python",
   "name": "python",
   "nbconvert_exporter": "python",
   "pygments_lexer": "ipython3",
   "version": "3.11.1"
  }
 },
 "nbformat": 4,
 "nbformat_minor": 2
}
