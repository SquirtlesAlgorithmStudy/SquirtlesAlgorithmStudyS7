{
 "cells": [
  {
   "cell_type": "code",
   "execution_count": 6,
   "metadata": {},
   "outputs": [
    {
     "name": "stdout",
     "output_type": "stream",
     "text": [
      "[1, 0, 0, 1, 0, 0, 1, 1]\n",
      "[0, 1, 0, 1, 0, 0, 1, 1]\n",
      "[1, 1, 1, 0, 0, 0, 1, 1]\n",
      "[0, 1, 0, 1, 0, 1, 0, 1]\n",
      "[[1, 1], [2, 1], [3, 1], [4, 1], [1, -1], [2, -1], [3, -1], [4, -1]]\n"
     ]
    }
   ],
   "source": [
    "import copy\n",
    "\n",
    "matrix = [list(map(int, input())) for _ in range(4)]\n",
    "\n",
    "for row in range(len(matrix)):\n",
    "    print(matrix[row])\n",
    "\n",
    "rotations = int(input())\n",
    "\n",
    "simuation_info = []\n",
    "\n",
    "for i in range(rotations):\n",
    "    simuation_info.append(list(map(int, input().split())))\n",
    "\n",
    "print(simuation_info)"
   ]
  },
  {
   "cell_type": "code",
   "execution_count": 7,
   "metadata": {},
   "outputs": [],
   "source": [
    "def rotation_sequence(wheel_1_1,wheel_2_1,wheel_2_2,wheel_3_1,wheel_3_2,wheel_4_1,matrix,wheel_number,direction):\n",
    "    new_matrix = copy.deepcopy(matrix)\n",
    "    \n",
    "    if wheel_number == 1:\n",
    "\n",
    "        if wheel_1_1 != wheel_2_1:\n",
    "            new_matrix[1] = matrix[1][direction:] + matrix[1][:direction]\n",
    "        else:\n",
    "            return new_matrix  \n",
    "        if wheel_2_2 != wheel_3_1:\n",
    "            new_matrix[2] = matrix[2][-direction:] + matrix[2][:-direction]\n",
    "        else:\n",
    "            return new_matrix \n",
    "        if wheel_3_2 != wheel_4_1:\n",
    "            new_matrix[3] = matrix[3][direction:] + matrix[3][:direction]\n",
    "            return new_matrix\n",
    "        else:\n",
    "            return new_matrix \n",
    "\n",
    "        \n",
    "    elif wheel_number == 2:\n",
    "\n",
    "        if wheel_1_1 != wheel_2_1:\n",
    "            new_matrix[0] = matrix[0][direction:] + matrix[0][:direction]\n",
    "        if wheel_2_2 != wheel_3_1:\n",
    "            new_matrix[2] = matrix[2][direction:] + matrix[2][:direction]\n",
    "        else:\n",
    "            return new_matrix\n",
    "        if wheel_3_2 != wheel_4_1:\n",
    "            new_matrix[3] = matrix[3][-direction:] + matrix[3][:-direction]\n",
    "        else:\n",
    "            return new_matrix\n",
    "    elif wheel_number == 3:\n",
    "        \n",
    "        if wheel_3_2 != wheel_4_1:\n",
    "            new_matrix[3] = matrix[3][direction:] + matrix[3][:direction]\n",
    "        if wheel_3_1 != wheel_2_2:\n",
    "            new_matrix[1] = matrix[1][direction:] + matrix[1][:direction]\n",
    "        else:\n",
    "            return new_matrix\n",
    "        if wheel_2_1 != wheel_1_1:\n",
    "            new_matrix[0] = matrix[0][-direction:] + matrix[0][:-direction]\n",
    "        else:\n",
    "            return new_matrix       \n",
    "    else:\n",
    "        if wheel_3_2 != wheel_4_1:\n",
    "            new_matrix[2] = matrix[2][direction:] + matrix[2][:direction]\n",
    "        else:\n",
    "            return new_matrix\n",
    "        if wheel_2_2 != wheel_3_1:\n",
    "            new_matrix[1] = matrix[1][-direction:] + matrix[1][:-direction]\n",
    "        else:\n",
    "            return new_matrix\n",
    "        if wheel_1_1 != wheel_2_1:\n",
    "            new_matrix[0] = matrix[0][direction:] + matrix[0][:direction]\n",
    "            return new_matrix\n",
    "        else:\n",
    "            return new_matrix\n",
    "    return new_matrix\n"
   ]
  },
  {
   "cell_type": "code",
   "execution_count": 8,
   "metadata": {},
   "outputs": [
    {
     "name": "stdout",
     "output_type": "stream",
     "text": [
      "[[1, 1, 0, 0, 1, 0, 0, 1], [1, 0, 1, 0, 0, 1, 1, 0], [1, 1, 1, 1, 0, 0, 0, 1], [1, 0, 1, 0, 1, 0, 1, 0]]\n",
      "[[1, 0, 0, 1, 0, 0, 1, 1], [0, 1, 0, 1, 0, 0, 1, 1], [1, 1, 1, 0, 0, 0, 1, 1], [1, 0, 1, 0, 1, 0, 1, 0]]\n",
      "[[1, 1, 0, 0, 1, 0, 0, 1], [1, 0, 1, 0, 0, 1, 1, 0], [1, 1, 1, 1, 0, 0, 0, 1], [1, 0, 1, 0, 1, 0, 1, 0]]\n",
      "[[1, 1, 0, 0, 1, 0, 0, 1], [1, 0, 1, 0, 0, 1, 1, 0], [1, 1, 1, 1, 0, 0, 0, 1], [0, 1, 0, 1, 0, 1, 0, 1]]\n",
      "[[1, 0, 0, 1, 0, 0, 1, 1], [0, 1, 0, 1, 0, 0, 1, 1], [1, 1, 1, 0, 0, 0, 1, 1], [1, 0, 1, 0, 1, 0, 1, 0]]\n",
      "[[1, 1, 0, 0, 1, 0, 0, 1], [1, 0, 1, 0, 0, 1, 1, 0], [1, 1, 1, 1, 0, 0, 0, 1], [1, 0, 1, 0, 1, 0, 1, 0]]\n",
      "[[1, 0, 0, 1, 0, 0, 1, 1], [0, 1, 0, 1, 0, 0, 1, 1], [1, 1, 1, 0, 0, 0, 1, 1], [1, 0, 1, 0, 1, 0, 1, 0]]\n",
      "[[1, 0, 0, 1, 0, 0, 1, 1], [0, 1, 0, 1, 0, 0, 1, 1], [1, 1, 1, 0, 0, 0, 1, 1], [0, 1, 0, 1, 0, 1, 0, 1]]\n"
     ]
    }
   ],
   "source": [
    "for i in range(len(simuation_info)):\n",
    "    wheel_number = simuation_info[i][0]\n",
    "    direction = simuation_info[i][1]\n",
    "    wheel_1_1 = matrix[0][2]\n",
    "    wheel_2_1 = matrix[1][6]\n",
    "    wheel_2_2 = matrix[1][2]\n",
    "    wheel_3_1 = matrix[2][6]\n",
    "    wheel_3_2 = matrix[2][2]\n",
    "    wheel_4_1= matrix[3][6]\n",
    "    matrix[wheel_number-1] = matrix[wheel_number-1][-direction:] + matrix[wheel_number-1][:-direction]\n",
    "    matrix = rotation_sequence(wheel_1_1,wheel_2_1,wheel_2_2,wheel_3_1,wheel_3_2,wheel_4_1,matrix,wheel_number,direction)\n",
    "    print(matrix)\n",
    "    \n",
    "        \n",
    "\n",
    "     "
   ]
  },
  {
   "cell_type": "code",
   "execution_count": 9,
   "metadata": {},
   "outputs": [
    {
     "name": "stdout",
     "output_type": "stream",
     "text": [
      "5\n"
     ]
    }
   ],
   "source": [
    "result = matrix[0][0]*1+matrix[1][0]*2+matrix[2][0]*4+matrix[3][0]*8\n",
    "\n",
    "print(result)\n",
    "\n"
   ]
  },
  {
   "cell_type": "code",
   "execution_count": 110,
   "metadata": {},
   "outputs": [
    {
     "name": "stdout",
     "output_type": "stream",
     "text": [
      "시계 방향으로 한 칸 회전한 리스트: [1, 1, 0, 1, 0, 1, 1, 1]\n",
      "반 시계 방향으로 한 칸 회전한 리스트: [0, 1, 0, 1, 1, 1, 1, 1]\n"
     ]
    }
   ],
   "source": [
    "original_list = [1, 0, 1, 0, 1, 1, 1, 1]\n",
    "\n",
    "# 시계 방향으로 한 칸 회전\n",
    "rotated_list = original_list[-1:] + original_list[:-1]\n",
    "# 반 시계 방향으로 한 칸 회전\n",
    "반시계_list = original_list[1:] + original_list[:1]\n",
    "\n",
    "print(\"시계 방향으로 한 칸 회전한 리스트:\", rotated_list)\n",
    "\n",
    "print(\"반 시계 방향으로 한 칸 회전한 리스트:\", 반시계_list)"
   ]
  }
 ],
 "metadata": {
  "kernelspec": {
   "display_name": "programmers",
   "language": "python",
   "name": "python3"
  },
  "language_info": {
   "codemirror_mode": {
    "name": "ipython",
    "version": 3
   },
   "file_extension": ".py",
   "mimetype": "text/x-python",
   "name": "python",
   "nbconvert_exporter": "python",
   "pygments_lexer": "ipython3",
   "version": "3.11.1"
  }
 },
 "nbformat": 4,
 "nbformat_minor": 2
}
