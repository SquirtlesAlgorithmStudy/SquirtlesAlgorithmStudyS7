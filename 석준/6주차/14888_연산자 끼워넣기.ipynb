{
 "cells": [
  {
   "cell_type": "code",
   "execution_count": 1,
   "metadata": {},
   "outputs": [
    {
     "name": "stdout",
     "output_type": "stream",
     "text": [
      "6\n",
      "[1, 2, 3, 4, 5, 6]\n",
      "[2, 1, 1, 1]\n"
     ]
    }
   ],
   "source": [
    "sequence = int(input())\n",
    "number_list = list(map(int,input().split()))\n",
    "operator_list = list(map(int,input().split()))\n",
    "operator = []\n",
    "for i in range(operator_list[0]):\n",
    "    operator.append('+')\n",
    "for i in range(operator_list[1]):\n",
    "    operator.append('-')\n",
    "for i in range(operator_list[2]):\n",
    "    operator.append('*')\n",
    "for i in range(operator_list[3]):\n",
    "    operator.append('/')\n",
    "\n",
    "\n",
    "print(sequence)\n",
    "print(number_list)\n",
    "print(operator_list)"
   ]
  },
  {
   "cell_type": "code",
   "execution_count": 2,
   "metadata": {},
   "outputs": [
    {
     "name": "stdout",
     "output_type": "stream",
     "text": [
      "['+', '+', '-', '*', '/']\n"
     ]
    }
   ],
   "source": [
    "print(operator)"
   ]
  },
  {
   "cell_type": "code",
   "execution_count": 62,
   "metadata": {},
   "outputs": [
    {
     "name": "stdout",
     "output_type": "stream",
     "text": [
      "가능한 조합의 수: 60\n",
      "('*', '+', '+', '/', '-')\n",
      "('+', '-', '+', '*', '/')\n",
      "('+', '-', '+', '/', '*')\n",
      "('+', '-', '*', '+', '/')\n",
      "('+', '+', '/', '-', '*')\n",
      "('/', '-', '*', '+', '+')\n",
      "('-', '/', '+', '*', '+')\n",
      "('+', '+', '*', '/', '-')\n",
      "('*', '/', '+', '+', '-')\n",
      "('-', '/', '*', '+', '+')\n",
      "('*', '+', '/', '+', '-')\n",
      "('*', '/', '+', '-', '+')\n",
      "('-', '*', '+', '/', '+')\n",
      "('-', '*', '/', '+', '+')\n",
      "('/', '-', '+', '+', '*')\n",
      "('-', '+', '*', '+', '/')\n",
      "('*', '-', '+', '/', '+')\n",
      "('+', '*', '-', '/', '+')\n",
      "('+', '*', '/', '-', '+')\n",
      "('+', '/', '+', '-', '*')\n",
      "('+', '*', '/', '+', '-')\n",
      "('*', '+', '-', '+', '/')\n",
      "('/', '+', '+', '-', '*')\n",
      "('+', '/', '-', '*', '+')\n",
      "('+', '*', '+', '-', '/')\n",
      "('*', '+', '+', '-', '/')\n",
      "('-', '+', '/', '*', '+')\n",
      "('*', '+', '/', '-', '+')\n",
      "('/', '+', '-', '*', '+')\n",
      "('/', '*', '-', '+', '+')\n",
      "('+', '+', '/', '*', '-')\n",
      "('+', '+', '-', '/', '*')\n",
      "('+', '-', '/', '+', '*')\n",
      "('+', '-', '*', '/', '+')\n",
      "('-', '*', '+', '+', '/')\n",
      "('+', '+', '*', '-', '/')\n",
      "('+', '+', '-', '*', '/')\n",
      "('+', '*', '-', '+', '/')\n",
      "('-', '/', '+', '+', '*')\n",
      "('*', '-', '+', '+', '/')\n",
      "('+', '/', '+', '*', '-')\n",
      "('/', '-', '+', '*', '+')\n",
      "('/', '*', '+', '+', '-')\n",
      "('+', '/', '-', '+', '*')\n",
      "('/', '+', '+', '*', '-')\n",
      "('/', '+', '-', '+', '*')\n",
      "('+', '/', '*', '-', '+')\n",
      "('-', '+', '/', '+', '*')\n",
      "('+', '/', '*', '+', '-')\n",
      "('*', '-', '/', '+', '+')\n",
      "('/', '*', '+', '-', '+')\n",
      "('/', '+', '*', '+', '-')\n",
      "('+', '*', '+', '/', '-')\n",
      "('+', '-', '/', '*', '+')\n",
      "('/', '+', '*', '-', '+')\n",
      "('-', '+', '+', '*', '/')\n",
      "('*', '/', '-', '+', '+')\n",
      "('*', '+', '-', '/', '+')\n",
      "('-', '+', '*', '/', '+')\n",
      "('-', '+', '+', '/', '*')\n"
     ]
    }
   ],
   "source": [
    "from itertools import permutations\n",
    "\n",
    "# 가능한 조합 생성\n",
    "possible_combinations = set(permutations(operator))\n",
    "\n",
    "print(\"가능한 조합의 수:\", len(possible_combinations))\n",
    "for combination in possible_combinations:\n",
    "    print(combination)\n",
    "\n",
    "\n"
   ]
  },
  {
   "cell_type": "code",
   "execution_count": 48,
   "metadata": {},
   "outputs": [],
   "source": [
    "def cal(num1,num2,operator):\n",
    "    if operator == '+':\n",
    "        return int(num1+num2)\n",
    "    elif operator == '-':\n",
    "        return int(num1-num2)\n",
    "    elif operator == '*':\n",
    "        return int(num1*num2)\n",
    "    elif operator == '/':\n",
    "        if num1 <0:\n",
    "            return -int(-(num1)/num2)\n",
    "        else:\n",
    "            return int(num1/num2)\n",
    "        \n",
    "    "
   ]
  },
  {
   "cell_type": "code",
   "execution_count": 63,
   "metadata": {},
   "outputs": [
    {
     "name": "stdout",
     "output_type": "stream",
     "text": [
      "[-5, 3, 0, 0, -24, -1, 26, -2, 3, 11, 0, 5, 6, 11, 36, 2, 6, 7, 3, 0, 1, 1, 12, -9, 1, 0, 6, 2, 1, 7, -1, 0, 30, 6, 1, 3, 1, 1, 54, 1, 19, 11, 3, 12, 29, 24, 5, 30, 3, 11, 5, 11, -4, 6, 13, 5, 7, 6, 7, 6]\n",
      "54\n",
      "-24\n"
     ]
    }
   ],
   "source": [
    "result = []\n",
    "for j in possible_combinations:\n",
    "    number = 0\n",
    "    for i in range(len(number_list)-1):\n",
    "        if i == 0:\n",
    "            number = cal(number_list[i],number_list[i+1],j[i])\n",
    "        else:\n",
    "            number = cal(number,number_list[i+1],j[i])\n",
    "\n",
    "    result.append(number)\n",
    "\n",
    "print(max(result))\n",
    "print(min(result))\n",
    "\n",
    "\n"
   ]
  }
 ],
 "metadata": {
  "kernelspec": {
   "display_name": "programmers",
   "language": "python",
   "name": "python3"
  },
  "language_info": {
   "codemirror_mode": {
    "name": "ipython",
    "version": 3
   },
   "file_extension": ".py",
   "mimetype": "text/x-python",
   "name": "python",
   "nbconvert_exporter": "python",
   "pygments_lexer": "ipython3",
   "version": "3.11.1"
  }
 },
 "nbformat": 4,
 "nbformat_minor": 2
}
