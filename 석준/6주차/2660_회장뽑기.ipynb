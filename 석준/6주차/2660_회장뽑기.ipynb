{
 "cells": [
  {
   "cell_type": "code",
   "execution_count": 3,
   "metadata": {},
   "outputs": [
    {
     "data": {
      "text/plain": [
       "[[inf, inf, inf, inf, inf],\n",
       " [inf, inf, inf, inf, inf],\n",
       " [inf, inf, inf, inf, inf],\n",
       " [inf, inf, inf, inf, inf],\n",
       " [inf, inf, inf, inf, inf]]"
      ]
     },
     "execution_count": 3,
     "metadata": {},
     "output_type": "execute_result"
    }
   ],
   "source": [
    "N = int(input())\n",
    "\n",
    "map_list = [[float('inf')]*N for _ in range(N)]\n",
    "map_list"
   ]
  },
  {
   "cell_type": "code",
   "execution_count": null,
   "metadata": {},
   "outputs": [],
   "source": [
    "while True :\n",
    "  a, b = map(int, input().split())\n",
    "  if a == b == -1 :\n",
    "    break\n",
    "  map_list[a-1][b-1] = map_list[b-1][a-1] = 1"
   ]
  },
  {
   "cell_type": "code",
   "execution_count": null,
   "metadata": {},
   "outputs": [],
   "source": [
    "for i in range(N):\n",
    "  map_list[i][i] = 0\n",
    "\n",
    "\n",
    "for k in range(N):\n",
    "  for i in range(N):\n",
    "    for j in range(N) :\n",
    "      if map_list[i][j] > map_list[i][k] + map_list[k][j] :\n",
    "        map_list[i][j] = map_list[i][k] + map_list[k][j]\n"
   ]
  },
  {
   "cell_type": "code",
   "execution_count": null,
   "metadata": {},
   "outputs": [],
   "source": [
    "dist_list = [ max(map_list[i]) for i in range(N) ]"
   ]
  },
  {
   "cell_type": "code",
   "execution_count": null,
   "metadata": {},
   "outputs": [],
   "source": [
    "chairman_val = min(dist_list)\n",
    "chairman_list = list()\n",
    "\n",
    "for i in range(N):\n",
    "  if dist_list[i] == chairman_val :\n",
    "    chairman_list.append(i+1)"
   ]
  },
  {
   "cell_type": "code",
   "execution_count": null,
   "metadata": {},
   "outputs": [],
   "source": [
    "print(chairman_val, len(chairman_list))\n",
    "print(*chairman_list)"
   ]
  },
  {
   "cell_type": "code",
   "execution_count": 2,
   "metadata": {},
   "outputs": [
    {
     "name": "stdout",
     "output_type": "stream",
     "text": [
      "[2, 3, 4]\n"
     ]
    }
   ],
   "source": [
    "print(chairman_list)"
   ]
  }
 ],
 "metadata": {
  "kernelspec": {
   "display_name": "programmers",
   "language": "python",
   "name": "python3"
  },
  "language_info": {
   "codemirror_mode": {
    "name": "ipython",
    "version": 3
   },
   "file_extension": ".py",
   "mimetype": "text/x-python",
   "name": "python",
   "nbconvert_exporter": "python",
   "pygments_lexer": "ipython3",
   "version": "3.11.1"
  }
 },
 "nbformat": 4,
 "nbformat_minor": 2
}
