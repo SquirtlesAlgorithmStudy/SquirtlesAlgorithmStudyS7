{
 "cells": [
  {
   "cell_type": "code",
   "execution_count": 1,
   "metadata": {},
   "outputs": [
    {
     "name": "stdout",
     "output_type": "stream",
     "text": [
      "1\n"
     ]
    }
   ],
   "source": [
    "import sys\n",
    "sys.setrecursionlimit(10**6) # 재귀 제한 늘이기\n",
    "# input = sys.stdin.readline\n",
    "\n",
    "def dfs(x,y):\n",
    "    global cnt\n",
    "    visited[x][y] = True\n",
    "    if graph[x][y] == 'P':\n",
    "        cnt+=1\n",
    "    for i in range(4):\n",
    "        nx = x + dx[i]\n",
    "        ny = y + dy[i]\n",
    "        if 0<=nx<n and 0<=ny<m and not visited[nx][ny]:\n",
    "            if graph[nx][ny] !=\"X\":\n",
    "                dfs(nx,ny)\n",
    "\n",
    "\n",
    "dx = [-1,1,0,0]\n",
    "dy = [0,0,-1,1]\n",
    "cnt = 0\n",
    "n,m = map(int,input().split())\n",
    "graph = list(input() for _ in range(n))\n",
    "visited = [[False]*m for _ in range(n)]\n",
    "\n",
    "for i in range(n):\n",
    "    for j in range(m):\n",
    "        if graph[i][j]==\"I\":\n",
    "            dfs(i,j)\n",
    "if cnt==0:\n",
    "    print(\"TT\")\n",
    "else:\n",
    "    print(cnt)"
   ]
  }
 ],
 "metadata": {
  "kernelspec": {
   "display_name": "programmers",
   "language": "python",
   "name": "python3"
  },
  "language_info": {
   "codemirror_mode": {
    "name": "ipython",
    "version": 3
   },
   "file_extension": ".py",
   "mimetype": "text/x-python",
   "name": "python",
   "nbconvert_exporter": "python",
   "pygments_lexer": "ipython3",
   "version": "3.11.1"
  }
 },
 "nbformat": 4,
 "nbformat_minor": 2
}
