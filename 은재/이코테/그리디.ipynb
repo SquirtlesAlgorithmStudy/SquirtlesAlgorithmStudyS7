{
 "cells": [
  {
   "cell_type": "code",
   "execution_count": null,
   "metadata": {},
   "outputs": [],
   "source": [
    "n, m, k = map(input().split())"
   ]
  },
  {
   "cell_type": "code",
   "execution_count": null,
   "metadata": {},
   "outputs": [],
   "source": [
    "print(n)"
   ]
  }
 ],
 "metadata": {
  "kernelspec": {
   "display_name": "eunjae",
   "language": "python",
   "name": "python3"
  },
  "language_info": {
   "name": "python",
   "version": "3.11.0 | packaged by conda-forge | (main, Jan 16 2023, 14:12:30) [MSC v.1916 64 bit (AMD64)]"
  },
  "orig_nbformat": 4,
  "vscode": {
   "interpreter": {
    "hash": "0da17481d9a031fa194c014ac5f665ad53fa35ba7b26e4a1236e28344a2b4fae"
   }
  }
 },
 "nbformat": 4,
 "nbformat_minor": 2
}
